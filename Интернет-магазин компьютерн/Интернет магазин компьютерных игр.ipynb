{
 "cells": [
  {
   "cell_type": "markdown",
   "metadata": {},
   "source": [
    "# Проект \"Интернет-магазин компьютерных игр\""
   ]
  },
  {
   "cell_type": "markdown",
   "metadata": {},
   "source": [
    "Проект по анализу исторических данных о продажах игр. Данные получены из открытых источников, включают в себя продажи игр, оценки пользователей и экспертов, жанры и платформы ( информация за 2016 год может быть неполной). Цель проекта - выявить определяющие успешность игры закономерности. "
   ]
  },
  {
   "cell_type": "markdown",
   "metadata": {},
   "source": [
    "План проекта:\n",
    "1. Подготовка данных\n",
    "2. Исследовательский анализ данных\n",
    "3. Портрет пользователя для каждого региона\n",
    "4. Проверка гипотез:\n",
    "       1) Средние пользовательские рейтинги платформ Xbox One и PC одинаковые\n",
    "       2) Средние пользовательские рейтинги жанров Action и Sports разные\n",
    "5. Общий вывод"
   ]
  },
  {
   "cell_type": "markdown",
   "metadata": {},
   "source": [
    "# 1. Первичный анализ данных"
   ]
  },
  {
   "cell_type": "code",
   "execution_count": 1,
   "metadata": {},
   "outputs": [],
   "source": [
    "import matplotlib.pyplot as plt\n",
    "import numpy as np\n",
    "import pandas as pd\n",
    "import random\n",
    "import seaborn as sns\n",
    "import warnings\n",
    "\n",
    "import scipy\n",
    "from scipy import stats as st\n",
    "\n",
    "warnings.filterwarnings('ignore')"
   ]
  },
  {
   "cell_type": "code",
   "execution_count": 2,
   "metadata": {},
   "outputs": [
    {
     "name": "stdout",
     "output_type": "stream",
     "text": [
      "<class 'pandas.core.frame.DataFrame'>\n",
      "RangeIndex: 16715 entries, 0 to 16714\n",
      "Data columns (total 11 columns):\n",
      " #   Column           Non-Null Count  Dtype  \n",
      "---  ------           --------------  -----  \n",
      " 0   Name             16713 non-null  object \n",
      " 1   Platform         16715 non-null  object \n",
      " 2   Year_of_Release  16446 non-null  float64\n",
      " 3   Genre            16713 non-null  object \n",
      " 4   NA_sales         16715 non-null  float64\n",
      " 5   EU_sales         16715 non-null  float64\n",
      " 6   JP_sales         16715 non-null  float64\n",
      " 7   Other_sales      16715 non-null  float64\n",
      " 8   Critic_Score     8137 non-null   float64\n",
      " 9   User_Score       10014 non-null  object \n",
      " 10  Rating           9949 non-null   object \n",
      "dtypes: float64(6), object(5)\n",
      "memory usage: 1.4+ MB\n",
      "None\n"
     ]
    },
    {
     "data": {
      "text/html": [
       "<div>\n",
       "<style scoped>\n",
       "    .dataframe tbody tr th:only-of-type {\n",
       "        vertical-align: middle;\n",
       "    }\n",
       "\n",
       "    .dataframe tbody tr th {\n",
       "        vertical-align: top;\n",
       "    }\n",
       "\n",
       "    .dataframe thead th {\n",
       "        text-align: right;\n",
       "    }\n",
       "</style>\n",
       "<table border=\"1\" class=\"dataframe\">\n",
       "  <thead>\n",
       "    <tr style=\"text-align: right;\">\n",
       "      <th></th>\n",
       "      <th>Name</th>\n",
       "      <th>Platform</th>\n",
       "      <th>Year_of_Release</th>\n",
       "      <th>Genre</th>\n",
       "      <th>NA_sales</th>\n",
       "      <th>EU_sales</th>\n",
       "      <th>JP_sales</th>\n",
       "      <th>Other_sales</th>\n",
       "      <th>Critic_Score</th>\n",
       "      <th>User_Score</th>\n",
       "      <th>Rating</th>\n",
       "    </tr>\n",
       "  </thead>\n",
       "  <tbody>\n",
       "    <tr>\n",
       "      <th>0</th>\n",
       "      <td>Wii Sports</td>\n",
       "      <td>Wii</td>\n",
       "      <td>2006.0</td>\n",
       "      <td>Sports</td>\n",
       "      <td>41.36</td>\n",
       "      <td>28.96</td>\n",
       "      <td>3.77</td>\n",
       "      <td>8.45</td>\n",
       "      <td>76.0</td>\n",
       "      <td>8</td>\n",
       "      <td>E</td>\n",
       "    </tr>\n",
       "    <tr>\n",
       "      <th>1</th>\n",
       "      <td>Super Mario Bros.</td>\n",
       "      <td>NES</td>\n",
       "      <td>1985.0</td>\n",
       "      <td>Platform</td>\n",
       "      <td>29.08</td>\n",
       "      <td>3.58</td>\n",
       "      <td>6.81</td>\n",
       "      <td>0.77</td>\n",
       "      <td>NaN</td>\n",
       "      <td>NaN</td>\n",
       "      <td>NaN</td>\n",
       "    </tr>\n",
       "    <tr>\n",
       "      <th>2</th>\n",
       "      <td>Mario Kart Wii</td>\n",
       "      <td>Wii</td>\n",
       "      <td>2008.0</td>\n",
       "      <td>Racing</td>\n",
       "      <td>15.68</td>\n",
       "      <td>12.76</td>\n",
       "      <td>3.79</td>\n",
       "      <td>3.29</td>\n",
       "      <td>82.0</td>\n",
       "      <td>8.3</td>\n",
       "      <td>E</td>\n",
       "    </tr>\n",
       "    <tr>\n",
       "      <th>3</th>\n",
       "      <td>Wii Sports Resort</td>\n",
       "      <td>Wii</td>\n",
       "      <td>2009.0</td>\n",
       "      <td>Sports</td>\n",
       "      <td>15.61</td>\n",
       "      <td>10.93</td>\n",
       "      <td>3.28</td>\n",
       "      <td>2.95</td>\n",
       "      <td>80.0</td>\n",
       "      <td>8</td>\n",
       "      <td>E</td>\n",
       "    </tr>\n",
       "    <tr>\n",
       "      <th>4</th>\n",
       "      <td>Pokemon Red/Pokemon Blue</td>\n",
       "      <td>GB</td>\n",
       "      <td>1996.0</td>\n",
       "      <td>Role-Playing</td>\n",
       "      <td>11.27</td>\n",
       "      <td>8.89</td>\n",
       "      <td>10.22</td>\n",
       "      <td>1.00</td>\n",
       "      <td>NaN</td>\n",
       "      <td>NaN</td>\n",
       "      <td>NaN</td>\n",
       "    </tr>\n",
       "  </tbody>\n",
       "</table>\n",
       "</div>"
      ],
      "text/plain": [
       "                       Name Platform  Year_of_Release         Genre  NA_sales  \\\n",
       "0                Wii Sports      Wii           2006.0        Sports     41.36   \n",
       "1         Super Mario Bros.      NES           1985.0      Platform     29.08   \n",
       "2            Mario Kart Wii      Wii           2008.0        Racing     15.68   \n",
       "3         Wii Sports Resort      Wii           2009.0        Sports     15.61   \n",
       "4  Pokemon Red/Pokemon Blue       GB           1996.0  Role-Playing     11.27   \n",
       "\n",
       "   EU_sales  JP_sales  Other_sales  Critic_Score User_Score Rating  \n",
       "0     28.96      3.77         8.45          76.0          8      E  \n",
       "1      3.58      6.81         0.77           NaN        NaN    NaN  \n",
       "2     12.76      3.79         3.29          82.0        8.3      E  \n",
       "3     10.93      3.28         2.95          80.0          8      E  \n",
       "4      8.89     10.22         1.00           NaN        NaN    NaN  "
      ]
     },
     "execution_count": 2,
     "metadata": {},
     "output_type": "execute_result"
    }
   ],
   "source": [
    "data=pd.read_csv('D:/Практикум-DS/Проекты для портфолио/games.csv')\n",
    "print(data.info())\n",
    "data.head()"
   ]
  },
  {
   "cell_type": "markdown",
   "metadata": {},
   "source": [
    "__Вывод:__\n",
    "Всего в датафрейме 16715 строк, в некоторых столбцах есть пропуски, часть числовых данных имеет тип 'object', названия столбцов нужно привести к стандартному виду - перевести в нижний регистр."
   ]
  },
  {
   "cell_type": "markdown",
   "metadata": {},
   "source": [
    "# 2. Подготовка датасета к дальнейшему анализу"
   ]
  },
  {
   "cell_type": "markdown",
   "metadata": {},
   "source": [
    "## 2.1 Замена названий столбцов"
   ]
  },
  {
   "cell_type": "code",
   "execution_count": 3,
   "metadata": {
    "scrolled": false
   },
   "outputs": [
    {
     "data": {
      "text/html": [
       "<div>\n",
       "<style scoped>\n",
       "    .dataframe tbody tr th:only-of-type {\n",
       "        vertical-align: middle;\n",
       "    }\n",
       "\n",
       "    .dataframe tbody tr th {\n",
       "        vertical-align: top;\n",
       "    }\n",
       "\n",
       "    .dataframe thead th {\n",
       "        text-align: right;\n",
       "    }\n",
       "</style>\n",
       "<table border=\"1\" class=\"dataframe\">\n",
       "  <thead>\n",
       "    <tr style=\"text-align: right;\">\n",
       "      <th></th>\n",
       "      <th>name</th>\n",
       "      <th>platform</th>\n",
       "      <th>year_of_release</th>\n",
       "      <th>genre</th>\n",
       "      <th>na_sales</th>\n",
       "      <th>eu_sales</th>\n",
       "      <th>jp_sales</th>\n",
       "      <th>other_sales</th>\n",
       "      <th>critic_score</th>\n",
       "      <th>user_score</th>\n",
       "      <th>rating</th>\n",
       "    </tr>\n",
       "  </thead>\n",
       "  <tbody>\n",
       "    <tr>\n",
       "      <th>0</th>\n",
       "      <td>Wii Sports</td>\n",
       "      <td>Wii</td>\n",
       "      <td>2006.0</td>\n",
       "      <td>Sports</td>\n",
       "      <td>41.36</td>\n",
       "      <td>28.96</td>\n",
       "      <td>3.77</td>\n",
       "      <td>8.45</td>\n",
       "      <td>76.0</td>\n",
       "      <td>8</td>\n",
       "      <td>E</td>\n",
       "    </tr>\n",
       "    <tr>\n",
       "      <th>1</th>\n",
       "      <td>Super Mario Bros.</td>\n",
       "      <td>NES</td>\n",
       "      <td>1985.0</td>\n",
       "      <td>Platform</td>\n",
       "      <td>29.08</td>\n",
       "      <td>3.58</td>\n",
       "      <td>6.81</td>\n",
       "      <td>0.77</td>\n",
       "      <td>NaN</td>\n",
       "      <td>NaN</td>\n",
       "      <td>NaN</td>\n",
       "    </tr>\n",
       "    <tr>\n",
       "      <th>2</th>\n",
       "      <td>Mario Kart Wii</td>\n",
       "      <td>Wii</td>\n",
       "      <td>2008.0</td>\n",
       "      <td>Racing</td>\n",
       "      <td>15.68</td>\n",
       "      <td>12.76</td>\n",
       "      <td>3.79</td>\n",
       "      <td>3.29</td>\n",
       "      <td>82.0</td>\n",
       "      <td>8.3</td>\n",
       "      <td>E</td>\n",
       "    </tr>\n",
       "    <tr>\n",
       "      <th>3</th>\n",
       "      <td>Wii Sports Resort</td>\n",
       "      <td>Wii</td>\n",
       "      <td>2009.0</td>\n",
       "      <td>Sports</td>\n",
       "      <td>15.61</td>\n",
       "      <td>10.93</td>\n",
       "      <td>3.28</td>\n",
       "      <td>2.95</td>\n",
       "      <td>80.0</td>\n",
       "      <td>8</td>\n",
       "      <td>E</td>\n",
       "    </tr>\n",
       "    <tr>\n",
       "      <th>4</th>\n",
       "      <td>Pokemon Red/Pokemon Blue</td>\n",
       "      <td>GB</td>\n",
       "      <td>1996.0</td>\n",
       "      <td>Role-Playing</td>\n",
       "      <td>11.27</td>\n",
       "      <td>8.89</td>\n",
       "      <td>10.22</td>\n",
       "      <td>1.00</td>\n",
       "      <td>NaN</td>\n",
       "      <td>NaN</td>\n",
       "      <td>NaN</td>\n",
       "    </tr>\n",
       "  </tbody>\n",
       "</table>\n",
       "</div>"
      ],
      "text/plain": [
       "                       name platform  year_of_release         genre  na_sales  \\\n",
       "0                Wii Sports      Wii           2006.0        Sports     41.36   \n",
       "1         Super Mario Bros.      NES           1985.0      Platform     29.08   \n",
       "2            Mario Kart Wii      Wii           2008.0        Racing     15.68   \n",
       "3         Wii Sports Resort      Wii           2009.0        Sports     15.61   \n",
       "4  Pokemon Red/Pokemon Blue       GB           1996.0  Role-Playing     11.27   \n",
       "\n",
       "   eu_sales  jp_sales  other_sales  critic_score user_score rating  \n",
       "0     28.96      3.77         8.45          76.0          8      E  \n",
       "1      3.58      6.81         0.77           NaN        NaN    NaN  \n",
       "2     12.76      3.79         3.29          82.0        8.3      E  \n",
       "3     10.93      3.28         2.95          80.0          8      E  \n",
       "4      8.89     10.22         1.00           NaN        NaN    NaN  "
      ]
     },
     "execution_count": 3,
     "metadata": {},
     "output_type": "execute_result"
    }
   ],
   "source": [
    "data.columns = data.columns.str.lower()\n",
    "data.head()"
   ]
  },
  {
   "cell_type": "markdown",
   "metadata": {},
   "source": [
    "## 2.2 Обработка пропусков"
   ]
  },
  {
   "cell_type": "code",
   "execution_count": 4,
   "metadata": {},
   "outputs": [
    {
     "name": "stdout",
     "output_type": "stream",
     "text": [
      "name                  2\n",
      "platform              0\n",
      "year_of_release     269\n",
      "genre                 2\n",
      "na_sales              0\n",
      "eu_sales              0\n",
      "jp_sales              0\n",
      "other_sales           0\n",
      "critic_score       8578\n",
      "user_score         6701\n",
      "rating             6766\n",
      "dtype: int64\n"
     ]
    }
   ],
   "source": [
    "print(data.isnull().sum())"
   ]
  },
  {
   "cell_type": "markdown",
   "metadata": {},
   "source": [
    "Заполнить пропуски в столбце 'name' невозможно, имеет смысл их удалить, тем более пропуска всего два.\n",
    "Строки с пропусками в столбце 'year_of_release' также можно удалить, так как заполнить их корректно невозможно, и их также немного.\n",
    "Пропуски в столбцах 'critic_score' и 'user_score' корректно заполнить невозможно, а так как эти данные будут использоваться в дальнейшем исследовании, то их лучше оставить незаполненными.\n"
   ]
  },
  {
   "cell_type": "markdown",
   "metadata": {},
   "source": [
    "### Удаление строк с пропусками в столбце 'name' и 'year_of_release'"
   ]
  },
  {
   "cell_type": "code",
   "execution_count": 5,
   "metadata": {},
   "outputs": [
    {
     "data": {
      "text/plain": [
       "name                  0\n",
       "platform              0\n",
       "year_of_release       0\n",
       "genre                 0\n",
       "na_sales              0\n",
       "eu_sales              0\n",
       "jp_sales              0\n",
       "other_sales           0\n",
       "critic_score       8461\n",
       "user_score         6605\n",
       "rating             6676\n",
       "dtype: int64"
      ]
     },
     "execution_count": 5,
     "metadata": {},
     "output_type": "execute_result"
    }
   ],
   "source": [
    "data=data.dropna(subset=['name']).reset_index(drop=True)\n",
    "data=data.dropna(subset=['year_of_release']).reset_index(drop=True)\n",
    "\n",
    "data.isna().sum()"
   ]
  },
  {
   "cell_type": "markdown",
   "metadata": {},
   "source": [
    "### Заполнение пропусков в столбце 'rating'"
   ]
  },
  {
   "cell_type": "code",
   "execution_count": 6,
   "metadata": {},
   "outputs": [
    {
     "name": "stdout",
     "output_type": "stream",
     "text": [
      "['E' nan 'M' 'T' 'E10+' 'K-A' 'AO' 'EC' 'RP']\n"
     ]
    },
    {
     "data": {
      "text/plain": [
       "E       3921\n",
       "T       2905\n",
       "M       1536\n",
       "E10+    1393\n",
       "EC         8\n",
       "K-A        3\n",
       "AO         1\n",
       "RP         1\n",
       "Name: rating, dtype: int64"
      ]
     },
     "execution_count": 6,
     "metadata": {},
     "output_type": "execute_result"
    }
   ],
   "source": [
    "# посмотрим на уникальные значения в столбце \"рейтинг\"\n",
    "print(data['rating'].unique())\n",
    "data['rating'].value_counts()"
   ]
  },
  {
   "cell_type": "markdown",
   "metadata": {},
   "source": [
    "Изучение рейтингов показало, что в этом столбце есть 4 редко встречающихся значения: 'AO','K-A', 'EC', 'RP', их можно просто удалить. Пропуски заполним значением 'N/A' - так они не будут мешать рассчетам, но и не исказят результаты исследования."
   ]
  },
  {
   "cell_type": "code",
   "execution_count": 7,
   "metadata": {
    "scrolled": true
   },
   "outputs": [
    {
     "data": {
      "text/plain": [
       "N/A     6676\n",
       "E       3921\n",
       "T       2905\n",
       "M       1536\n",
       "E10+    1393\n",
       "Name: rating, dtype: int64"
      ]
     },
     "execution_count": 7,
     "metadata": {},
     "output_type": "execute_result"
    }
   ],
   "source": [
    "data['rating']=data['rating'].fillna('N/A')\n",
    "data = data[data['rating'].isin (['AO','K-A', 'EC', 'RP']) == False ]\n",
    "\n",
    "data['rating'].value_counts()"
   ]
  },
  {
   "cell_type": "code",
   "execution_count": 8,
   "metadata": {},
   "outputs": [
    {
     "data": {
      "text/plain": [
       "name                  0\n",
       "platform              0\n",
       "year_of_release       0\n",
       "genre                 0\n",
       "na_sales              0\n",
       "eu_sales              0\n",
       "jp_sales              0\n",
       "other_sales           0\n",
       "critic_score       8451\n",
       "user_score         6605\n",
       "rating                0\n",
       "dtype: int64"
      ]
     },
     "execution_count": 8,
     "metadata": {},
     "output_type": "execute_result"
    }
   ],
   "source": [
    "data.isna().sum()"
   ]
  },
  {
   "cell_type": "markdown",
   "metadata": {},
   "source": [
    "### Анализ столбца 'user_score'"
   ]
  },
  {
   "cell_type": "code",
   "execution_count": 9,
   "metadata": {
    "scrolled": true
   },
   "outputs": [
    {
     "data": {
      "text/plain": [
       "array(['8', nan, '8.3', '8.5', '6.6', '8.4', '8.6', '7.7', '6.3', '7.4',\n",
       "       '8.2', '9', '7.9', '8.1', '8.7', '7.1', '3.4', '5.3', '4.8', '3.2',\n",
       "       '8.9', '6.4', '7.8', '7.5', '2.6', '7.2', '9.2', '7', '7.3', '4.3',\n",
       "       '7.6', '5.7', '5', '9.1', '6.5', 'tbd', '8.8', '6.9', '9.4', '6.8',\n",
       "       '6.1', '6.7', '5.4', '4', '4.9', '4.5', '9.3', '6.2', '4.2', '6',\n",
       "       '3.7', '4.1', '5.8', '5.6', '5.5', '4.4', '4.6', '5.9', '3.9',\n",
       "       '3.1', '2.9', '5.2', '3.3', '4.7', '5.1', '3.5', '2.5', '1.9', '3',\n",
       "       '2.7', '2.2', '2', '9.5', '2.1', '3.6', '2.8', '1.8', '3.8', '0',\n",
       "       '1.6', '9.6', '2.4', '1.7', '1.1', '0.3', '1.5', '0.7', '1.2',\n",
       "       '2.3', '0.5', '1.3', '0.2', '0.6', '1.4', '0.9', '1', '9.7'],\n",
       "      dtype=object)"
      ]
     },
     "execution_count": 9,
     "metadata": {},
     "output_type": "execute_result"
    }
   ],
   "source": [
    "data['user_score'].unique()"
   ]
  },
  {
   "cell_type": "markdown",
   "metadata": {},
   "source": [
    "В столбце 'user_score' преимущественно числовые значения от 0 до 10, есть пропуски, которые невозможно заполнить, не исказив результаты. Есть значение 'tbd', которое можно интерпретировать, как \"пока не определено\", то есть пользователь начал играть, но оценку поставить еще не готов. Для удобства исследования данных с использованием данного столбца лучше заменить 'tbd' на 'nan' - на результате это никак не скажется."
   ]
  },
  {
   "cell_type": "code",
   "execution_count": 10,
   "metadata": {},
   "outputs": [
    {
     "data": {
      "text/plain": [
       "array(['8', nan, '8.3', '8.5', '6.6', '8.4', '8.6', '7.7', '6.3', '7.4',\n",
       "       '8.2', '9', '7.9', '8.1', '8.7', '7.1', '3.4', '5.3', '4.8', '3.2',\n",
       "       '8.9', '6.4', '7.8', '7.5', '2.6', '7.2', '9.2', '7', '7.3', '4.3',\n",
       "       '7.6', '5.7', '5', '9.1', '6.5', '8.8', '6.9', '9.4', '6.8', '6.1',\n",
       "       '6.7', '5.4', '4', '4.9', '4.5', '9.3', '6.2', '4.2', '6', '3.7',\n",
       "       '4.1', '5.8', '5.6', '5.5', '4.4', '4.6', '5.9', '3.9', '3.1',\n",
       "       '2.9', '5.2', '3.3', '4.7', '5.1', '3.5', '2.5', '1.9', '3', '2.7',\n",
       "       '2.2', '2', '9.5', '2.1', '3.6', '2.8', '1.8', '3.8', '0', '1.6',\n",
       "       '9.6', '2.4', '1.7', '1.1', '0.3', '1.5', '0.7', '1.2', '2.3',\n",
       "       '0.5', '1.3', '0.2', '0.6', '1.4', '0.9', '1', '9.7'], dtype=object)"
      ]
     },
     "execution_count": 10,
     "metadata": {},
     "output_type": "execute_result"
    }
   ],
   "source": [
    "data['user_score']=data['user_score'].replace('tbd', np.NaN)\n",
    "data['user_score'].unique()"
   ]
  },
  {
   "cell_type": "markdown",
   "metadata": {},
   "source": [
    "### Изучение столбца 'critic_score'"
   ]
  },
  {
   "cell_type": "code",
   "execution_count": 11,
   "metadata": {
    "scrolled": true
   },
   "outputs": [
    {
     "data": {
      "text/plain": [
       "array([13., 17., 19., 20., 21., 23., 24., 25., 26., 27., 28., 29., 30.,\n",
       "       31., 32., 33., 34., 35., 36., 37., 38., 39., 40., 41., 42., 43.,\n",
       "       44., 45., 46., 47., 48., 49., 50., 51., 52., 53., 54., 55., 56.,\n",
       "       57., 58., 59., 60., 61., 62., 63., 64., 65., 66., 67., 68., 69.,\n",
       "       70., 71., 72., 73., 74., 75., 76., 77., 78., 79., 80., 81., 82.,\n",
       "       83., 84., 85., 86., 87., 88., 89., 90., 91., 92., 93., 94., 95.,\n",
       "       96., 97., 98., nan])"
      ]
     },
     "execution_count": 11,
     "metadata": {},
     "output_type": "execute_result"
    }
   ],
   "source": [
    "np.sort(data['critic_score'].unique())"
   ]
  },
  {
   "cell_type": "markdown",
   "metadata": {},
   "source": [
    "В столбце 'critic_score' преимущественно числовые значения от 0 до 100, есть пропуски, которые невозможно заполнить, не исказив результаты."
   ]
  },
  {
   "cell_type": "markdown",
   "metadata": {},
   "source": [
    "__Причины пропусков:__ пропуски могли появится в данных за ранние периоды, так как тогда информация еще не собиралась, а восстановить ее позже в полном объеме не удалось, рейтинги тоже могли быть необязательными или проставлялись не для всех регионов. Пропуски в данных по оценкам пользователей и критиков скорее всего связаны с тем, что технической возможности оценки не было в тот момент. Часть данных могла быть утеряна в результате некорректной выгрузки информации (например название игры и жанр)."
   ]
  },
  {
   "cell_type": "markdown",
   "metadata": {},
   "source": [
    "## 2.3 Изменение типов данных"
   ]
  },
  {
   "cell_type": "code",
   "execution_count": 12,
   "metadata": {},
   "outputs": [
    {
     "name": "stdout",
     "output_type": "stream",
     "text": [
      "<class 'pandas.core.frame.DataFrame'>\n",
      "Int64Index: 16431 entries, 0 to 16443\n",
      "Data columns (total 11 columns):\n",
      " #   Column           Non-Null Count  Dtype  \n",
      "---  ------           --------------  -----  \n",
      " 0   name             16431 non-null  object \n",
      " 1   platform         16431 non-null  object \n",
      " 2   year_of_release  16431 non-null  float64\n",
      " 3   genre            16431 non-null  object \n",
      " 4   na_sales         16431 non-null  float64\n",
      " 5   eu_sales         16431 non-null  float64\n",
      " 6   jp_sales         16431 non-null  float64\n",
      " 7   other_sales      16431 non-null  float64\n",
      " 8   critic_score     7980 non-null   float64\n",
      " 9   user_score       7457 non-null   object \n",
      " 10  rating           16431 non-null  object \n",
      "dtypes: float64(6), object(5)\n",
      "memory usage: 1.5+ MB\n"
     ]
    }
   ],
   "source": [
    "data.info()"
   ]
  },
  {
   "cell_type": "markdown",
   "metadata": {},
   "source": [
    "Прежде всего имеет смысл изменить тип данных в столбце 'year_of_release' - в реальности он целочисленный, могут получаться некорретные значения при вычислениях, если оставить тип float, а также в столбце 'user_score' - для вычислений будет лучше, если будет тип float."
   ]
  },
  {
   "cell_type": "code",
   "execution_count": 13,
   "metadata": {},
   "outputs": [
    {
     "name": "stdout",
     "output_type": "stream",
     "text": [
      "<class 'pandas.core.frame.DataFrame'>\n",
      "Int64Index: 16431 entries, 0 to 16443\n",
      "Data columns (total 11 columns):\n",
      " #   Column           Non-Null Count  Dtype  \n",
      "---  ------           --------------  -----  \n",
      " 0   name             16431 non-null  object \n",
      " 1   platform         16431 non-null  object \n",
      " 2   year_of_release  16431 non-null  int64  \n",
      " 3   genre            16431 non-null  object \n",
      " 4   na_sales         16431 non-null  float64\n",
      " 5   eu_sales         16431 non-null  float64\n",
      " 6   jp_sales         16431 non-null  float64\n",
      " 7   other_sales      16431 non-null  float64\n",
      " 8   critic_score     7980 non-null   float64\n",
      " 9   user_score       7457 non-null   float64\n",
      " 10  rating           16431 non-null  object \n",
      "dtypes: float64(6), int64(1), object(4)\n",
      "memory usage: 1.5+ MB\n"
     ]
    }
   ],
   "source": [
    "data=data.astype({'year_of_release':'int64'})\n",
    "data=data.astype({'user_score':'float64'})\n",
    "data.info()"
   ]
  },
  {
   "cell_type": "markdown",
   "metadata": {},
   "source": [
    "## 2.4 Подсчет суммарных продаж по всем регионам"
   ]
  },
  {
   "cell_type": "code",
   "execution_count": 14,
   "metadata": {},
   "outputs": [],
   "source": [
    "data['total_sales']=data[['na_sales','eu_sales','jp_sales', 'other_sales']].sum(axis = 1)"
   ]
  },
  {
   "cell_type": "markdown",
   "metadata": {},
   "source": [
    "# 3. Исследовательский анализ данных"
   ]
  },
  {
   "cell_type": "markdown",
   "metadata": {},
   "source": [
    "## 3.1 Динамика выпуска игр в разные годы"
   ]
  },
  {
   "cell_type": "code",
   "execution_count": 15,
   "metadata": {},
   "outputs": [
    {
     "data": {
      "image/png": "[encoded data removed]",
      "text/plain": [
       "<Figure size 1500x900 with 1 Axes>"
      ]
     },
     "metadata": {},
     "output_type": "display_data"
    }
   ],
   "source": [
    "data_year=data.groupby('year_of_release').agg(games=('name', 'count')).reset_index()\n",
    "plt.figure(figsize=(15, 9));\n",
    "plt.grid();\n",
    "plt.fill_between(data_year['year_of_release'], data_year['games']);\n",
    "plt.xticks(np.arange(data_year['year_of_release'].min(), data_year['year_of_release'].max()+1, 1));\n",
    "plt.xticks(rotation = 60);\n",
    "plt.xlabel(\"Годы\");\n",
    "plt.ylabel(\"Количество вышедших игр\");\n",
    "plt.title('Динамика выпуска игр в разные годы\\n');\n",
    "\n",
    "plt.show()"
   ]
  },
  {
   "cell_type": "markdown",
   "metadata": {},
   "source": [
    "__Вывод:__ В период с 1980 по 2001 годы выходило менее 500 игр в год, что недостаточно для того, чтобы делать какие-то выводы об этих периодах. Поэтому можно для дальнейшей оценки использовать данные с 2002 по 2016 годы."
   ]
  },
  {
   "cell_type": "markdown",
   "metadata": {},
   "source": [
    "## 3.2 Динамика объемов продаж по всем платформам"
   ]
  },
  {
   "cell_type": "code",
   "execution_count": 16,
   "metadata": {},
   "outputs": [
    {
     "data": {
      "image/png": "[encoded data removed]",
      "text/plain": [
       "<Figure size 1500x900 with 1 Axes>"
      ]
     },
     "metadata": {},
     "output_type": "display_data"
    }
   ],
   "source": [
    "data_sales=data.groupby('year_of_release').agg(sales=('total_sales', 'sum')).reset_index()\n",
    "\n",
    "plt.figure(figsize=(15, 9));\n",
    "plt.title('Динамика объемов продаж по всем платформам\\n');\n",
    "plt.xticks(np.arange(data_sales['year_of_release'].min(), data_sales['year_of_release'].max()+1, 1));\n",
    "sns.barplot(data=data_sales, x='year_of_release', y='sales', color='teal');\n",
    "plt.xticks(rotation = 60);\n",
    "plt.xlabel(\"Годы\");\n",
    "plt.ylabel(\"Суммарный объем продаж\");\n",
    "plt.grid(True)\n",
    "plt.show();"
   ]
  },
  {
   "cell_type": "markdown",
   "metadata": {},
   "source": [
    "По графику видно, что рост популярности игр пришелся на середину 90х, достиг пика в 2008-2009 годах, далее пошел спад.\n",
    "\n",
    "Посмотрим, на платформы с наибольшим объемом продаж."
   ]
  },
  {
   "cell_type": "markdown",
   "metadata": {},
   "source": [
    "## 3.3 Распределение продаж по годам по наиболее успешным платформам"
   ]
  },
  {
   "cell_type": "code",
   "execution_count": 17,
   "metadata": {},
   "outputs": [
    {
     "data": {
      "image/png": "[encoded data removed]",
      "text/plain": [
       "<Figure size 1500x700 with 1 Axes>"
      ]
     },
     "metadata": {},
     "output_type": "display_data"
    },
    {
     "name": "stdout",
     "output_type": "stream",
     "text": [
      "  platform    sales\n",
      "0      PS2  1233.32\n",
      "1     X360   961.24\n",
      "2      PS3   931.34\n",
      "3      Wii   890.52\n",
      "4       DS   802.13\n",
      "5       PS   725.67\n"
     ]
    }
   ],
   "source": [
    "data_platform_top=data.groupby('platform').agg(sales=('total_sales', 'sum')).\\\n",
    "                    sort_values(by='sales',ascending=False).reset_index()\n",
    "plt.figure(figsize=(15, 7));\n",
    "plt.xticks(rotation = 60);\n",
    "sns.barplot(data=data_platform_top, x='platform', y='sales')\n",
    "plt.title('Объемы продаж по платформам за весь период\\n')\n",
    "plt.show();\n",
    "data_platform_top=data_platform_top[:6]\n",
    "print(data_platform_top)"
   ]
  },
  {
   "cell_type": "markdown",
   "metadata": {},
   "source": [
    "Для дальнейшего анализа отберем 6 платформ с наибольшим объемом продаж: PS2, X360, PS3, Wii, DS и PS.\n",
    "Построим по ним графики динамик продаж по годам."
   ]
  },
  {
   "cell_type": "code",
   "execution_count": 18,
   "metadata": {},
   "outputs": [
    {
     "data": {
      "image/png": "[encoded data removed]",
      "text/plain": [
       "<Figure size 640x480 with 1 Axes>"
      ]
     },
     "metadata": {},
     "output_type": "display_data"
    },
    {
     "data": {
      "image/png": "[encoded data removed]",
      "text/plain": [
       "<Figure size 640x480 with 1 Axes>"
      ]
     },
     "metadata": {},
     "output_type": "display_data"
    },
    {
     "data": {
      "image/png": "[encoded data removed]",
      "text/plain": [
       "<Figure size 640x480 with 1 Axes>"
      ]
     },
     "metadata": {},
     "output_type": "display_data"
    },
    {
     "data": {
      "image/png": "[encoded data removed]",
      "text/plain": [
       "<Figure size 640x480 with 1 Axes>"
      ]
     },
     "metadata": {},
     "output_type": "display_data"
    },
    {
     "data": {
      "image/png": "[encoded data removed]",
      "text/plain": [
       "<Figure size 640x480 with 1 Axes>"
      ]
     },
     "metadata": {},
     "output_type": "display_data"
    },
    {
     "data": {
      "image/png": "[encoded data removed]",
      "text/plain": [
       "<Figure size 640x480 with 1 Axes>"
      ]
     },
     "metadata": {},
     "output_type": "display_data"
    }
   ],
   "source": [
    "data_platform=data.groupby(['platform','year_of_release']).agg(sales=('total_sales', 'sum')).reset_index()\n",
    "\n",
    "for platform in data_platform_top['platform'].unique():\n",
    "    data_plat=data_platform[data_platform['platform'] == platform].drop('platform', axis=1)\n",
    "    clr = '#'+''.join([random.choice('0123456789ABCDEF') for i in range(6)])\n",
    "    sns.barplot(data=data_plat, x='year_of_release', y='sales',color=clr)\n",
    "    plt.title(platform)\n",
    "    plt.xticks(rotation = 60);\n",
    "    plt.xlabel(\"Годы\");\n",
    "    plt.ylabel(\"Суммарный объем продаж\");\n",
    "    plt.show();"
   ]
  },
  {
   "cell_type": "markdown",
   "metadata": {},
   "source": [
    "По динамикам продаж для самых прибыльных платформ за весь наблюдаемый период видно, что новые платформы \"живут\" около 10 лет, а затем сменяются более современными.\n",
    "\n",
    "__Вывод:__ Задача стоит провести исследование с целью прогноза на 2017 год, поэтому имеет смысл взять данные за последние 5 лет, чтобы не упустить платформу, которая сейчас достигла пика, но и не брать в расчет платформы, популярность которых уже сходит на нет."
   ]
  },
  {
   "cell_type": "markdown",
   "metadata": {},
   "source": [
    "## 3.4 Выбор нескольких потенциально прибыльных платформ"
   ]
  },
  {
   "cell_type": "code",
   "execution_count": 19,
   "metadata": {},
   "outputs": [
    {
     "data": {
      "image/png": "[encoded data removed]",
      "text/plain": [
       "<Figure size 1200x500 with 1 Axes>"
      ]
     },
     "metadata": {},
     "output_type": "display_data"
    }
   ],
   "source": [
    "#оставляем данныетолько за 2012-2016 годы\n",
    "data_new=data.query('year_of_release > 2011')\n",
    "\n",
    "data_new_sales=data_new.groupby('platform').agg(sales=('total_sales', 'sum')).\\\n",
    "                sort_values(by='sales',ascending=False).reset_index()\n",
    "\n",
    "plt.figure(figsize=(12, 5));\n",
    "plt.xticks(rotation = 60);\n",
    "sns.barplot(data=data_new_sales, x='platform',y='sales')\n",
    "plt.title('(Объемы продаж по платформам за весь период\\n')\n",
    "plt.show();"
   ]
  },
  {
   "cell_type": "markdown",
   "metadata": {},
   "source": [
    "Наиболее перспективными на первый взгляд кажутся первые 5 платформ: PS4, PS3, X360, 3DS, Xone. Посмотрим подробнее на динамику продаж по всем платформам, так как некоторые из них могли появиться совсем недавно и еще только набирают популярность."
   ]
  },
  {
   "cell_type": "code",
   "execution_count": 20,
   "metadata": {},
   "outputs": [
    {
     "data": {
      "image/png": "[encoded data removed]",
      "text/plain": [
       "<Figure size 300x300 with 1 Axes>"
      ]
     },
     "metadata": {},
     "output_type": "display_data"
    },
    {
     "data": {
      "image/png": "[encoded data removed]",
      "text/plain": [
       "<Figure size 300x300 with 1 Axes>"
      ]
     },
     "metadata": {},
     "output_type": "display_data"
    },
    {
     "data": {
      "image/png": "[encoded data removed]",
      "text/plain": [
       "<Figure size 300x300 with 1 Axes>"
      ]
     },
     "metadata": {},
     "output_type": "display_data"
    },
    {
     "data": {
      "image/png": "[encoded data removed]",
      "text/plain": [
       "<Figure size 300x300 with 1 Axes>"
      ]
     },
     "metadata": {},
     "output_type": "display_data"
    },
    {
     "data": {
      "image/png": "[encoded data removed]",
      "text/plain": [
       "<Figure size 300x300 with 1 Axes>"
      ]
     },
     "metadata": {},
     "output_type": "display_data"
    },
    {
     "data": {
      "image/png": "[encoded data removed]",
      "text/plain": [
       "<Figure size 300x300 with 1 Axes>"
      ]
     },
     "metadata": {},
     "output_type": "display_data"
    },
    {
     "data": {
      "image/png": "[encoded data removed]",
      "text/plain": [
       "<Figure size 300x300 with 1 Axes>"
      ]
     },
     "metadata": {},
     "output_type": "display_data"
    },
    {
     "data": {
      "image/png": "[encoded data removed]",
      "text/plain": [
       "<Figure size 300x300 with 1 Axes>"
      ]
     },
     "metadata": {},
     "output_type": "display_data"
    },
    {
     "data": {
      "image/png": "[encoded data removed]",
      "text/plain": [
       "<Figure size 300x300 with 1 Axes>"
      ]
     },
     "metadata": {},
     "output_type": "display_data"
    },
    {
     "data": {
      "image/png": "[encoded data removed]",
      "text/plain": [
       "<Figure size 300x300 with 1 Axes>"
      ]
     },
     "metadata": {},
     "output_type": "display_data"
    },
    {
     "data": {
      "image/png": "[encoded data removed]",
      "text/plain": [
       "<Figure size 300x300 with 1 Axes>"
      ]
     },
     "metadata": {},
     "output_type": "display_data"
    }
   ],
   "source": [
    "data_new_platform=data_new.groupby(['platform','year_of_release']).agg(sales=('total_sales', 'sum')).reset_index()\n",
    "data_new_top=data_new_sales[:11]\n",
    "\n",
    "for platform in data_new_top['platform'].unique():\n",
    "    plt.figure(figsize=(3, 3));\n",
    "    data_plat=data_new_platform[data_new_platform['platform'] == platform].drop('platform', axis=1)\n",
    "    clr = '#'+''.join([random.choice('0123456789ABCDEF') for i in range(6)])\n",
    "    sns.barplot(data=data_plat, x='year_of_release', y='sales',color=clr);\n",
    "    plt.title(platform)\n",
    "    plt.xticks(rotation = 60);\n",
    "    plt.xlabel(\"Годы\");\n",
    "    plt.ylabel(\"Суммарные продажи\");\n",
    "    plt.show();"
   ]
  },
  {
   "cell_type": "markdown",
   "metadata": {},
   "source": [
    "Очевидно, сразу можно отбросить PSP и DS - продаж за последние 2 года было очень мало или не было совсем. Явную тенденцию к снижению уровня продаж можно увидеть по платформам: Wii, X360, PS3.\n",
    "Явная тенденция к росту продаж, с учетом неполных данных за 2016 год видна по платформам: PS4 и XOne, по остальным платформам больше похоже, что популярность платформы уже перевалила за пик."
   ]
  },
  {
   "cell_type": "markdown",
   "metadata": {},
   "source": [
    "## 3.5 \"Ящик с усами\" по глобальным продажам игр в разбивке по платформам"
   ]
  },
  {
   "cell_type": "code",
   "execution_count": 21,
   "metadata": {},
   "outputs": [
    {
     "data": {
      "image/png": "[encoded data removed]",
      "text/plain": [
       "<Figure size 1200x1000 with 1 Axes>"
      ]
     },
     "metadata": {},
     "output_type": "display_data"
    },
    {
     "data": {
      "image/png": "[encoded data removed]",
      "text/plain": [
       "<Figure size 1200x1000 with 1 Axes>"
      ]
     },
     "metadata": {},
     "output_type": "display_data"
    }
   ],
   "source": [
    "data_new.head()\n",
    "data_platform_sales=data_new.groupby(['platform','name']).agg(sales=('total_sales','sum')).reset_index()\n",
    "plt.figure(figsize=(12, 10));\n",
    "sns.boxplot( x=data_platform_sales[\"platform\"], y=data_platform_sales[\"sales\"] )\n",
    "plt.xlabel(\"Платформы\");\n",
    "plt.ylabel(\"Объем продаж по играм, млн. копий\");\n",
    "plt.title('Распределение продаж игр по платформам')\n",
    "plt.show();\n",
    "\n",
    "plt.figure(figsize=(12, 10));\n",
    "ax=sns.boxplot( x=data_platform_sales[\"platform\"], y=data_platform_sales[\"sales\"] )\n",
    "ax.set(ylim=(0,1))\n",
    "plt.xlabel(\"Платформы\");\n",
    "plt.ylabel(\"Объем продаж по играм, млн. копий\");\n",
    "plt.title('Распределение продаж игр по платформам')\n",
    "plt.show();"
   ]
  },
  {
   "cell_type": "markdown",
   "metadata": {},
   "source": [
    "Вывод: почти по всем платформам у распределений длинный хвост, выходящий далеко за пределы усов - значит есть редкие очень прибыльные игры, основная же масса игр приносит относительно невысокую прибыль. Исключение составляет, пожалуй, только PSP и DS - тут все распределение очень \"прижато\" к нулю - относительно других платформ объемы продаж небольшие и \"хиты\" приносят относительно невысокую прибыль, что соответствует выводу из предыдущего исследования - эти платформы уже в конце своего жизненного цикла.\n",
    "\n",
    "Судя по нижней части графиков наиболее прибыльной за весь рассматриваемый период является платформа X360 (популярность которой согласно гистограмме продаж по годам уже сходит на нет), так же выглядят перспективно PS4, XOne, относительно высокий уровень продаж (и по медиане, и по высоте самого \"ящика\") у платформ PS3, Wii и WiiU. Остальные платформы и по медианному уровню продаж, и по уровню 75% квантиля заметно отстают."
   ]
  },
  {
   "cell_type": "markdown",
   "metadata": {},
   "source": [
    "## 3.6 Влияние на продажи платформы One отзывов пользователей и критиков. Диаграмма рассеяния и корреляция между отзывами и продажами"
   ]
  },
  {
   "cell_type": "code",
   "execution_count": 22,
   "metadata": {},
   "outputs": [
    {
     "name": "stdout",
     "output_type": "stream",
     "text": [
      "Корреляция глобальных продаж и отзывов критиков: 0.42\n"
     ]
    },
    {
     "data": {
      "image/png": "[encoded data removed]",
      "text/plain": [
       "<Figure size 640x480 with 1 Axes>"
      ]
     },
     "metadata": {},
     "output_type": "display_data"
    },
    {
     "name": "stdout",
     "output_type": "stream",
     "text": [
      "\n",
      "Корреляция глобальных продаж и отзывов пользователей: -0.07\n"
     ]
    },
    {
     "data": {
      "image/png": "[encoded data removed]",
      "text/plain": [
       "<Figure size 640x480 with 1 Axes>"
      ]
     },
     "metadata": {},
     "output_type": "display_data"
    }
   ],
   "source": [
    "# делаем срез по платформе XOne\n",
    "data_one=data_new.query('platform == \"XOne\"')\n",
    "\n",
    "# смотрим взаимосвязть продаж и оценок критиков\n",
    "print('Корреляция глобальных продаж и отзывов критиков:', '{:.2f}'.format(data_one['total_sales'].\\\n",
    "                                                                          corr(data_one['critic_score'])))\n",
    "data_one.plot(x='critic_score', y='total_sales', kind='scatter', alpha=0.3, c = 'b', s = 20);\n",
    "plt.xlabel('Оценка критиков'); \n",
    "plt.ylabel('Глобальные продажи, млн. копий');\n",
    "plt.title('Зависимость продаж от отзывов критиков\\n');\n",
    "plt.show();\n",
    "\n",
    "# смотрим взаимосвязть продаж и оценок пользователей\n",
    "print('\\nКорреляция глобальных продаж и отзывов пользователей:', '{:.2f}'.format(data_one['total_sales'].\\\n",
    "                                                                          corr(data_one['user_score'])))\n",
    "data_one.plot(x='user_score', y='total_sales', kind='scatter', alpha=0.3, c = 'b', s = 20);\n",
    "plt.xlabel('Оценка пользователей');\n",
    "plt.ylabel('Глобальные продажи, млн. копий');\n",
    "plt.title('Зависимость продаж от отзывов пользователей\\n');"
   ]
  },
  {
   "cell_type": "markdown",
   "metadata": {},
   "source": [
    "__Вывод:__ не выявлено связи между глобальными продажами игр для платформы XOne и оценками пользователей, оценки критиков влияют на глобальные продажи в бОльшей степени, но и эту связь нельзя назвать сильной и однозначной.\n",
    "В сумме оценка по диаграммам boxplot по всем платформам и более подробная оценка продаж платформы Xone позволяют сделать выводы, что высокие продажи супер-популярных игр редки для любой платформы и судя по всему на это вляет множество факторов помимо оценок пользователей и критиков как таковых."
   ]
  },
  {
   "cell_type": "markdown",
   "metadata": {},
   "source": [
    "Посмотрим, как обстоят дела с остальными платформами, посчитаем корреляцию между оценками критиков/пользователей и суммарными продажами по всем платформам. Также посмотрим на общее количество оценок по всем платформам."
   ]
  },
  {
   "cell_type": "code",
   "execution_count": 23,
   "metadata": {
    "scrolled": true
   },
   "outputs": [
    {
     "data": {
      "text/html": [
       "<style type=\"text/css\">\n",
       "</style>\n",
       "<table id=\"T_4bea4\">\n",
       "  <thead>\n",
       "    <tr>\n",
       "      <th class=\"blank level0\" >&nbsp;</th>\n",
       "      <th id=\"T_4bea4_level0_col0\" class=\"col_heading level0 col0\" >critic_corr</th>\n",
       "      <th id=\"T_4bea4_level0_col1\" class=\"col_heading level0 col1\" >user_corr</th>\n",
       "      <th id=\"T_4bea4_level0_col2\" class=\"col_heading level0 col2\" >critic_count</th>\n",
       "      <th id=\"T_4bea4_level0_col3\" class=\"col_heading level0 col3\" >user_count</th>\n",
       "    </tr>\n",
       "    <tr>\n",
       "      <th class=\"index_name level0\" >platform</th>\n",
       "      <th class=\"blank col0\" >&nbsp;</th>\n",
       "      <th class=\"blank col1\" >&nbsp;</th>\n",
       "      <th class=\"blank col2\" >&nbsp;</th>\n",
       "      <th class=\"blank col3\" >&nbsp;</th>\n",
       "    </tr>\n",
       "  </thead>\n",
       "  <tbody>\n",
       "    <tr>\n",
       "      <th id=\"T_4bea4_level0_row0\" class=\"row_heading level0 row0\" >3DS</th>\n",
       "      <td id=\"T_4bea4_row0_col0\" class=\"data row0 col0\" >0.32</td>\n",
       "      <td id=\"T_4bea4_row0_col1\" class=\"data row0 col1\" >0.20</td>\n",
       "      <td id=\"T_4bea4_row0_col2\" class=\"data row0 col2\" >104</td>\n",
       "      <td id=\"T_4bea4_row0_col3\" class=\"data row0 col3\" >114</td>\n",
       "    </tr>\n",
       "    <tr>\n",
       "      <th id=\"T_4bea4_level0_row1\" class=\"row_heading level0 row1\" >DS</th>\n",
       "      <td id=\"T_4bea4_row1_col0\" class=\"data row1 col0\" >nan</td>\n",
       "      <td id=\"T_4bea4_row1_col1\" class=\"data row1 col1\" >0.88</td>\n",
       "      <td id=\"T_4bea4_row1_col2\" class=\"data row1 col2\" >1</td>\n",
       "      <td id=\"T_4bea4_row1_col3\" class=\"data row1 col3\" >3</td>\n",
       "    </tr>\n",
       "    <tr>\n",
       "      <th id=\"T_4bea4_level0_row2\" class=\"row_heading level0 row2\" >PC</th>\n",
       "      <td id=\"T_4bea4_row2_col0\" class=\"data row2 col0\" >0.24</td>\n",
       "      <td id=\"T_4bea4_row2_col1\" class=\"data row2 col1\" >-0.12</td>\n",
       "      <td id=\"T_4bea4_row2_col2\" class=\"data row2 col2\" >198</td>\n",
       "      <td id=\"T_4bea4_row2_col3\" class=\"data row2 col3\" >206</td>\n",
       "    </tr>\n",
       "    <tr>\n",
       "      <th id=\"T_4bea4_level0_row3\" class=\"row_heading level0 row3\" >PS3</th>\n",
       "      <td id=\"T_4bea4_row3_col0\" class=\"data row3 col0\" >0.33</td>\n",
       "      <td id=\"T_4bea4_row3_col1\" class=\"data row3 col1\" >-0.01</td>\n",
       "      <td id=\"T_4bea4_row3_col2\" class=\"data row3 col2\" >214</td>\n",
       "      <td id=\"T_4bea4_row3_col3\" class=\"data row3 col3\" >283</td>\n",
       "    </tr>\n",
       "    <tr>\n",
       "      <th id=\"T_4bea4_level0_row4\" class=\"row_heading level0 row4\" >PS4</th>\n",
       "      <td id=\"T_4bea4_row4_col0\" class=\"data row4 col0\" >0.41</td>\n",
       "      <td id=\"T_4bea4_row4_col1\" class=\"data row4 col1\" >-0.03</td>\n",
       "      <td id=\"T_4bea4_row4_col2\" class=\"data row4 col2\" >252</td>\n",
       "      <td id=\"T_4bea4_row4_col3\" class=\"data row4 col3\" >257</td>\n",
       "    </tr>\n",
       "    <tr>\n",
       "      <th id=\"T_4bea4_level0_row5\" class=\"row_heading level0 row5\" >PSP</th>\n",
       "      <td id=\"T_4bea4_row5_col0\" class=\"data row5 col0\" >nan</td>\n",
       "      <td id=\"T_4bea4_row5_col1\" class=\"data row5 col1\" >-0.80</td>\n",
       "      <td id=\"T_4bea4_row5_col2\" class=\"data row5 col2\" >1</td>\n",
       "      <td id=\"T_4bea4_row5_col3\" class=\"data row5 col3\" >4</td>\n",
       "    </tr>\n",
       "    <tr>\n",
       "      <th id=\"T_4bea4_level0_row6\" class=\"row_heading level0 row6\" >PSV</th>\n",
       "      <td id=\"T_4bea4_row6_col0\" class=\"data row6 col0\" >0.09</td>\n",
       "      <td id=\"T_4bea4_row6_col1\" class=\"data row6 col1\" >-0.00</td>\n",
       "      <td id=\"T_4bea4_row6_col2\" class=\"data row6 col2\" >107</td>\n",
       "      <td id=\"T_4bea4_row6_col3\" class=\"data row6 col3\" >130</td>\n",
       "    </tr>\n",
       "    <tr>\n",
       "      <th id=\"T_4bea4_level0_row7\" class=\"row_heading level0 row7\" >Wii</th>\n",
       "      <td id=\"T_4bea4_row7_col0\" class=\"data row7 col0\" >-0.42</td>\n",
       "      <td id=\"T_4bea4_row7_col1\" class=\"data row7 col1\" >0.30</td>\n",
       "      <td id=\"T_4bea4_row7_col2\" class=\"data row7 col2\" >5</td>\n",
       "      <td id=\"T_4bea4_row7_col3\" class=\"data row7 col3\" >17</td>\n",
       "    </tr>\n",
       "    <tr>\n",
       "      <th id=\"T_4bea4_level0_row8\" class=\"row_heading level0 row8\" >WiiU</th>\n",
       "      <td id=\"T_4bea4_row8_col0\" class=\"data row8 col0\" >0.35</td>\n",
       "      <td id=\"T_4bea4_row8_col1\" class=\"data row8 col1\" >0.40</td>\n",
       "      <td id=\"T_4bea4_row8_col2\" class=\"data row8 col2\" >90</td>\n",
       "      <td id=\"T_4bea4_row8_col3\" class=\"data row8 col3\" >100</td>\n",
       "    </tr>\n",
       "    <tr>\n",
       "      <th id=\"T_4bea4_level0_row9\" class=\"row_heading level0 row9\" >X360</th>\n",
       "      <td id=\"T_4bea4_row9_col0\" class=\"data row9 col0\" >0.36</td>\n",
       "      <td id=\"T_4bea4_row9_col1\" class=\"data row9 col1\" >0.01</td>\n",
       "      <td id=\"T_4bea4_row9_col2\" class=\"data row9 col2\" >171</td>\n",
       "      <td id=\"T_4bea4_row9_col3\" class=\"data row9 col3\" >235</td>\n",
       "    </tr>\n",
       "    <tr>\n",
       "      <th id=\"T_4bea4_level0_row10\" class=\"row_heading level0 row10\" >XOne</th>\n",
       "      <td id=\"T_4bea4_row10_col0\" class=\"data row10 col0\" >0.42</td>\n",
       "      <td id=\"T_4bea4_row10_col1\" class=\"data row10 col1\" >-0.07</td>\n",
       "      <td id=\"T_4bea4_row10_col2\" class=\"data row10 col2\" >169</td>\n",
       "      <td id=\"T_4bea4_row10_col3\" class=\"data row10 col3\" >182</td>\n",
       "    </tr>\n",
       "  </tbody>\n",
       "</table>\n"
      ],
      "text/plain": [
       "<pandas.io.formats.style.Styler at 0x2a294d9c220>"
      ]
     },
     "metadata": {},
     "output_type": "display_data"
    }
   ],
   "source": [
    "data_platform_user=data_new.groupby('platform')['user_score'].count()\n",
    "data_platform_critic=data_new.groupby('platform')['critic_score'].count()\n",
    "data_platform=data_new.groupby('platform')[['critic_score', 'user_score', 'total_sales']].corr()\n",
    "\n",
    "data_platform = data_platform.rename_axis((\"platform\", \"corr_type\"))\n",
    "data_platform=data_platform.query('corr_type != \"critic_score\" & corr_type != \"user_score\"')\n",
    "data_platform=data_platform.drop(['total_sales'],axis=1)\n",
    "data_platform=data_platform.droplevel('corr_type')\n",
    "data_platform=data_platform.rename(columns={'critic_score':'critic_corr', 'user_score':'user_corr'})\n",
    "\n",
    "data_platform=data_platform.merge(data_platform_critic, on='platform',how='left')\n",
    "data_platform=data_platform.merge(data_platform_user, on='platform',how='left')\n",
    "data_platform=data_platform.rename(columns={'critic_score':'critic_count', 'user_score':'user_count'})\n",
    "\n",
    "display(data_platform.style.format({'critic_corr':'{:.2f}','user_corr':'{:.2f}'}))"
   ]
  },
  {
   "cell_type": "markdown",
   "metadata": {},
   "source": [
    "Для всех платформ характерна невысокая корреляция глобальных продаж с оценками критиков и пользователей, исключение - платформа DS: корреляция между продажами и оценкой пользователей 0.88 и платформа PSP: корреляция между продажами и оценкой пользователей 0.8, но по этим платформам крайне мало оценок, так что расчет корреляции нельзя считать корретным."
   ]
  },
  {
   "cell_type": "markdown",
   "metadata": {},
   "source": [
    "## 3.7 Общее распределение игр по жанрам. Самые прибыльные жанры. Жанры с высокими и низкими продажами."
   ]
  },
  {
   "cell_type": "code",
   "execution_count": 24,
   "metadata": {},
   "outputs": [
    {
     "ename": "SyntaxError",
     "evalue": "EOL while scanning string literal (1851435506.py, line 5)",
     "output_type": "error",
     "traceback": [
      "\u001b[1;36m  File \u001b[1;32m\"C:\\Users\\DNS\\AppData\\Local\\Temp\\ipykernel_2292\\1851435506.py\"\u001b[1;36m, line \u001b[1;32m5\u001b[0m\n\u001b[1;33m    y_title=['Количество игр', 'Глобальные продажи, млн. копий', 'Глобальные продажи, млн. копий]\u001b[0m\n\u001b[1;37m                                                                                                 ^\u001b[0m\n\u001b[1;31mSyntaxError\u001b[0m\u001b[1;31m:\u001b[0m EOL while scanning string literal\n"
     ]
    }
   ],
   "source": [
    "func_list=['count','sum','max']\n",
    "title_list=['Распределение игр по жанрам\\n',\\\n",
    "            'Суммарные объемы продаж по жанрам\\n',\\\n",
    "            'Максимальные продажи по жанрам\\n']\n",
    "y_title=['Количество игр', 'Глобальные продажи, млн. копий', 'Глобальные продажи, млн. копий]\n",
    "color_list=['lightsteelblue','thistle','lightcoral']\n",
    "for i in range(3):\n",
    "    data_genre=data_new.groupby('genre')['total_sales'].agg(func_list[i]).reset_index().sort_values('total_sales', \\\n",
    "                                                                                                    ascending=False)\n",
    "    plt.figure(figsize=(12, 5));\n",
    "    sns.barplot(x=data_genre['genre'], y=data_genre['total_sales'], color=color_list[i])\n",
    "    plt.xlabel('Genres (Жанры)');\n",
    "    plt.ylabel(y_title[i]);\n",
    "    plt.title(title_list[i]);\n",
    "    plt.xticks(rotation = 60);\n",
    "    plt.show();\n",
    "\n",
    "data_genre=data_new.groupby('genre')['total_sales'].median().reset_index().sort_values('total_sales', ascending=False)\n",
    "plt.figure(figsize=(12, 5));\n",
    "ax=sns.boxplot(x=data_new['genre'], y=data_new['total_sales'], color='darkseagreen')\n",
    "ax.set(ylim=(0,1.5))\n",
    "plt.xlabel('Жанры');\n",
    "plt.ylabel('Глобальные продажи, млн. копий');\n",
    "plt.title('Распределение объемов продаж по жанрам\\n');\n",
    "plt.xticks(rotation = 60);\n",
    "plt.show();"
   ]
  },
  {
   "cell_type": "markdown",
   "metadata": {},
   "source": [
    "__Вывод:__ Среди всех жанров безусловное лидерство по количеству выпускаемых игр занимает Action - более 1000 игр за период с 2012 по 2016 год, в жарнрах Role-Playing, Adventure, Sports, Shooter и Misc за рассматриваемый период вышло от 200 до 400 игр приблизительно, в остальных жанрах - менее 100 игр.\n",
    "\n",
    "Естесственно жанр Action лидирует по суммарным объемам продаж, но если посмотреть средние (медианные) значения, то лидеры будут совсем другие: с большим отрывом опережая другие жанры лидирует Shooter (более 400 тыс. копий), далее идут Sports и Platform ( от 200 до 250 тыс. копий), самые низкие показатели у жанров Puzzle и Adventure."
   ]
  },
  {
   "cell_type": "markdown",
   "metadata": {},
   "source": [
    "# 4. Портрет пользователя каждого региона"
   ]
  },
  {
   "cell_type": "markdown",
   "metadata": {},
   "source": [
    "Задача - определить для каждого региона (North America, Europe, Japan): cамые популярные платформы (топ-5), самые популярные жанры (топ-5), выяснить, влияет ли рейтинг ESRB на продажи в отдельном регионе."
   ]
  },
  {
   "cell_type": "markdown",
   "metadata": {},
   "source": [
    "## 4.1 Топ-5 популярных платформ"
   ]
  },
  {
   "cell_type": "code",
   "execution_count": null,
   "metadata": {},
   "outputs": [],
   "source": [
    "fig, ax= plt.subplots(1,3, figsize =(20, 7));\n",
    "plt.suptitle('Топ-5 платформ\\n', y=1.1, fontsize=20)\n",
    "subtitle_list=['Северная Америка\\n', 'Япония\\n', 'Европа\\n']\n",
    "col_region_list=['na_sales', 'jp_sales', 'eu_sales']\n",
    "\n",
    "for i in range(3):\n",
    "    data_temp=data_new.groupby('platform')[col_region_list[i]].sum().reset_index().\\\n",
    "                                sort_values(col_region_list[i], ascending=False).reset_index(drop=True)\n",
    "    data_temp=data_temp.append({'platform':'other',col_region_list[i]: sum(data_temp.loc[5:10,col_region_list[i]])}, \\\n",
    "                           ignore_index=True).drop(index=[5,6,7,8,9,10])\n",
    "    colors = (\"teal\", \"mediumaquamarine\",\"palegreen\",\"yellowgreen\",\"mediumseagreen\",\"forestgreen\")\n",
    "    ax[i].pie(data_temp[col_region_list[i]], labels=data_temp['platform'],autopct='%1.1f%%', colors=colors, startangle=60);\n",
    "    ax[i].axis('equal');\n",
    "    ax[i].set_title(subtitle_list[i], fontsize=16);\n",
    "\n",
    "plt.show();\n"
   ]
  },
  {
   "cell_type": "markdown",
   "metadata": {},
   "source": [
    "Для Северной Америки, Японии и Европы топ-5 платформ отличаются, причем если для Америки и Европы тройка наиболее популярных одна и та же, а отличаются только доли (X360, PS4,PS3), то для Японии характерны другие платформы, X360 и Xone вообще не попадают в топ-5, зато 3DS по объемам приближается к половине всех продаж."
   ]
  },
  {
   "cell_type": "markdown",
   "metadata": {},
   "source": [
    "## 4.2 Топ-5 популярных жанров"
   ]
  },
  {
   "cell_type": "code",
   "execution_count": null,
   "metadata": {},
   "outputs": [],
   "source": [
    "fig, ax= plt.subplots(1,3, figsize =(20, 7));\n",
    "plt.suptitle('Топ-5 жанров\\n', y=1.1, fontsize=20)\n",
    "\n",
    "subtitle_list=['Северная Америка\\n', 'Япония\\n', 'Европа\\n']\n",
    "col_region_list=['na_sales', 'jp_sales', 'eu_sales']\n",
    "\n",
    "for i in range(3):\n",
    "    data_temp=data_new.groupby('genre')[col_region_list[i]].sum().reset_index().\\\n",
    "                                sort_values(col_region_list[i], ascending=False).reset_index(drop=True)\n",
    "    data_temp=data_temp.append({'genre':'other',col_region_list[i]: sum(data_temp.loc[5:10,col_region_list[i]])}, \\\n",
    "                           ignore_index=True).drop(index=[5,6,7,8,9,10,11])\n",
    "    colors = (\"teal\", \"mediumaquamarine\",\"palegreen\",\"yellowgreen\",\"mediumseagreen\",\"forestgreen\")\n",
    "    ax[i].pie(data_temp[col_region_list[i]], labels=data_temp['genre'],autopct='%1.1f%%', colors=colors, startangle=60);\n",
    "    ax[i].axis('equal');\n",
    "    ax[i].set_title(subtitle_list[i], fontsize=16);\n",
    "\n",
    "plt.show();\n"
   ]
  },
  {
   "cell_type": "markdown",
   "metadata": {},
   "source": [
    "В топ-5 жанров похожая на топ-5 платформ ситуация: Северная Америка и Европа очень близки и по самим жанрам и по долям, а вот Япония пересекается в топ-3 только по жанру Action - он примерно одинаково популярен во всех трех регионах. В целом Японские потребители демонстрируют бОльшую однородность - два наиболее популярных жанра: Role-Playing и Action занимаются суммарно более 62% рынка, остальные жанры - менее 10% каждый. В Северной Америке и Европе тоже есть безусловные лидеры по жанрам (Action, Shooter и Sports), но доли жанров, не входящих в топ3 побольше."
   ]
  },
  {
   "cell_type": "markdown",
   "metadata": {},
   "source": [
    "## 4.3 Влияние рейтинга ESRB на продажи в разных регионах"
   ]
  },
  {
   "cell_type": "code",
   "execution_count": null,
   "metadata": {},
   "outputs": [],
   "source": [
    "fig, ax= plt.subplots(1,3, figsize =(20, 7));\n",
    "plt.suptitle('Влияние рейтинга ESRB на продажи в разных регионах', \\\n",
    "             y=1.1, fontsize=20)\n",
    "title_list=['Северная Америка\\n', 'Япония\\n', 'Европа\\n']\n",
    "column_list=['na_sales', 'jp_sales', 'eu_sales']\n",
    "data_esrb=data_new.groupby('rating')['na_sales','jp_sales','eu_sales'].sum().reset_index()\n",
    "\n",
    "for i in range (3):\n",
    "    sns.barplot(data=data_esrb,x='rating',y=column_list[i],ax=ax[i])\n",
    "    ax[i].set_xlabel('Рейтинг ESRB');\n",
    "    ax[i].set_ylabel('Объем продаж, млн. копий');\n",
    "    ax[i].set_title(title_list[i], fontsize=16); \n",
    "plt.show();"
   ]
  },
  {
   "cell_type": "markdown",
   "metadata": {},
   "source": [
    "__Вывод:__ большая часть продаж в Северной Америке и Европе приходится на игры с рейтингом \"M\" и \"E\"- только для взрослых старше 17 лет и для пользователей от 6 лет и старше, что по всей видимости соответствует \"взрослым\" и \"детским\" играм, по всей видимсти рейтинги \"E10+\" и \"T\" и используются реже, т.к. бОльшинство игр можно отнести к одной из первых двух возрастных категорий.\n",
    "В Японии по всей видимости рейтинги ESRB  активно не используются (изначально ESRB ориентировалась на продукты для североамериканского рынка), поэтому и влияние на продажи сложно оценить."
   ]
  },
  {
   "cell_type": "markdown",
   "metadata": {},
   "source": [
    "# 5. Проверка гипотез"
   ]
  },
  {
   "cell_type": "markdown",
   "metadata": {},
   "source": [
    "## 5.1 Средние пользовательские рейтинги платформ Xbox One и PC одинаковые"
   ]
  },
  {
   "cell_type": "markdown",
   "metadata": {},
   "source": [
    "__Нулевая гипотеза H0__: средний пользовательский рейтинг платформы Xbox One равен среднему пользовательскому рейтингу платформы PC.\n",
    "\n",
    "__Альтернативная гипотеза H1__: средний пользовательский рейтинг платформы Xbox One не равен среднему пользовательскому рейтингу платформы PC.\n",
    "\n",
    "Зададим пороговое значение __alpha=0.05__."
   ]
  },
  {
   "cell_type": "code",
   "execution_count": null,
   "metadata": {
    "scrolled": true
   },
   "outputs": [],
   "source": [
    "data_xone=data_new.query('platform == \"XOne\"')['user_score'].dropna()\n",
    "data_pc=data_new.query('platform == \"PC\"')['user_score'].dropna()\n",
    "\n",
    "print(\"\\nРазмер выборки по Xbox One:\", len(data_xone))\n",
    "print(\"Размер выборки по PC:\", len(data_pc), \"\\n\\n\")\n",
    "\n",
    "alpha = .05 # критический уровень статистической значимости\n",
    "\n",
    "results =scipy.stats.ttest_ind(data_xone, data_pc, equal_var=False)\n",
    "\n",
    "print('p-value (p-значение):', results.pvalue)\n",
    "\n",
    "if results.pvalue < alpha:\n",
    "    print(\"Отвергаем нулевую гипотезу и принимаем альтернативную\\n\")\n",
    "else:\n",
    "    print(\"Принимаем нулевую гипотезу\\n\") "
   ]
  },
  {
   "cell_type": "markdown",
   "metadata": {},
   "source": [
    "Для проверки гипотезы использовался t-тест для проверки равенства средних двух генеральных совокупностей. Размеры выборок из генеральных совокупностей не равны, поэтому equal_var=False.\n",
    "\n",
    "Значение p-value больше критического уровня в 5%, поэтому нельзя отвергнуть нулевую гипотезу, т.е. средние пользовательские оценки для платформ Xbox One и PC равны с вероятностью 95%.\n"
   ]
  },
  {
   "cell_type": "markdown",
   "metadata": {},
   "source": [
    "## 5.2 Средние пользовательские рейтинги жанров Action  и Sports разные"
   ]
  },
  {
   "cell_type": "markdown",
   "metadata": {},
   "source": [
    "__Нулевая гипотеза H0__: средний пользовательский рейтинг жанра Action равен среднему пользовательскому рейтингу жанра Sports.\n",
    "\n",
    "__Альтернативная гипотеза H1__: средний пользовательский рейтинг жанра Action не равен среднему пользовательскому рейтингу жанра Sports.\n",
    "\n",
    "Зададим пороговое значение __alpha=0.05__."
   ]
  },
  {
   "cell_type": "code",
   "execution_count": null,
   "metadata": {
    "scrolled": false
   },
   "outputs": [],
   "source": [
    "data_action=data_new.query('genre == \"Action\"')['user_score'].dropna()\n",
    "data_sports=data_new.query('genre == \"Sports\"')['user_score'].dropna()\n",
    "\n",
    "print(\"\\nРазмер выборки по жанру Action:\", len(data_action))\n",
    "print(\"Размер выборки по жанру Sports:\", len(data_sports), \"\\n\\n\")\n",
    "\n",
    "alpha = .05 # критический уровень статистической значимости\n",
    "\n",
    "results =scipy.stats.ttest_ind(data_action, data_sports, equal_var=False)\n",
    "\n",
    "print('p-value (p-значение):', results.pvalue)\n",
    "\n",
    "if results.pvalue < alpha:\n",
    "    print(\"Отвергаем нулевую гипотезу и принимаем альтернативную\\n\")\n",
    "else:\n",
    "    print(\"Принимаем нулевую гипотезу\\n\") "
   ]
  },
  {
   "cell_type": "markdown",
   "metadata": {},
   "source": [
    "Для проверки гипотезы использовался t-тест для проверки равенства средних двух генеральных совокупностей. Размеры выборок из генеральных совокупностей не равны, поэтому equal_var=False.\n",
    "\n",
    "Значение p-value меньше критического уровня в 5%, поэтому можно отвергнуть нулевую гипотезу, т.е. средние пользовательские оценки для жанров Action и Sports не равны с вероятностью 95%.\n",
    "\n",
    "\n"
   ]
  },
  {
   "cell_type": "markdown",
   "metadata": {},
   "source": [
    "# 6.0 Общий вывод"
   ]
  },
  {
   "cell_type": "markdown",
   "metadata": {},
   "source": [
    "1.  Анализ выпущенных за рассматриваемый период игр показал, что в 80ые и начале 90ых рынок игр только начал развиваться, резкий рост количества выпускаемых игр пришелся на середину 90х и продолжался до 2008-2009 годов, когда и достиг своего пика, с тех пор и до конца наблюдаемого периода наблюдается снижение.\n",
    "2. Динамика объемов проданных копий по всем платформам и всем регионам в целом повторяет динамику выпуска игр: чем больше игр - тем больше их покупают.\n",
    "3. Поверхностный анализ распределения объемов продаж по платформам за весь период выявил несколько лидеров, но при более подробном рассмотрении стало ясно, что часть этих платформ уже давно не востребованы, и их период сверхприбылей был 5-10 лет назад, тем не менее из-за общего спада на рынке игр они все еще лидируют по суммарным продажам за весь наблюдаемый период. Анализ топ-6 самых прибыльных платформ показал, что среднее \"время жизни\" платформы около 10 лет, поэтому для дальнейшего выбора перспективных платформ решено было оставить данные за последние 5 лет, чтобы не учитывать те платформы, по которым продажи уже почти сошли на нет.\n",
    "4. Дальшейший анализ платформ актуальных с 2012 по 2016 годы позволил выявить 2 наиболее перспективные платформы : PS4 и XBox One.\n",
    "5. Анализ распределения глобальных продаж с разбивкой по платформам показал, что для большинства платформ свойственны редкие супер-популярные игры, основная же масса приносит относительно немного покупок. Исключение - платформы, жизненный цикл которых уже завершается - там единичных сверхприбыльных игр уже нет. Также анализ распределния продаж по платформам подтвердил выводы предыдущего пункта - наиболее перспективными платформами являются PS4 и Xbox One.\n",
    "6. Попытка выявить взаимосвязь между глобальными продажами и оценками критиков/пользователей не увенчалась успехом, скорее всего эта связь носит непростой характер, и в целом на продажи существенно влияют еще и другие факторы (например, выход фильма по игре провоцирует интерес к ней, наличие предыдущих популярных версий игры тоже наверняка повышает шансы на высокие продажи).\n",
    "7. Выпуск игр в различных жанрах распределен неравномерно - c большим отрывом лидирует жанр Action, любопытно что при этом это не самый прибыльный \"в среднем\" жанр, хотя засчет большого количество выпускаемых игр и сверхпопулярности отдельных игр по суммарным продажам Action тоже лидирует. Если смотреть медианные значения, то наиболее перспективными являются жанры: Shooter, Sports, Platform.\n",
    "8. Анализ \"портрета\" пользователя из разных регионов выявил, что среднестатистические пользователи из Северной Америки и Европы очень похожи, а вот пользователи из Японии имеют существенные отличия: и в выборе платформ, и в выборе жанров. Общим в топ-3 является опять же жанр Action и платформа PS3. Рейтинг ESRB не проставлен у большинства игр популярных в Японии, т.к. организация ориентирована на североамериканский рынок, и оценить влияние на объем продаж в Японии невозможно. Для Северной Америки и Европы характерны высокие продажи \"взрослых\" с рейтингом M и \"детских\" (от 6 лет) с рейтингом E игр\n",
    "9. Гипотеза \"Средние пользовательские рейтинги платформ Xbox One и PC одинаковые\" потвердилась с вероятностью 95%. Гипотеза \"Средние пользовательские рейтинги жанров Action и Sports разные\" на данных за последние 5 лет также не была опровергнута.\n",
    "10. При планировании выпуска новой игры на глобальном рынке с учетом всех полученных выводов стоит иметь ввиду, что наиболее прибыльным за последние 5 лет (на начало 2017 года) является жанр Shooting, имеет смысл выпускать игру для платформ PS4 и Xbox One, и игра должна быть ориентированной на взрослых игроков. Эти же выводы будут корректны для европейского и северо-американского рынка. Если же планируется выпуск игры только для рынка Японии - необходимо провести более детальное исследование прибыльности отдельных жанров, так как игроки в Японии заметно отличаются по своим предпочтениям от игроков в Европе и Северной Америке."
   ]
  }
 ],
 "metadata": {
  "ExecuteTimeLog": [
   {
    "duration": 72,
    "start_time": "2022-09-20T10:17:13.266Z"
   },
   {
    "duration": 408,
    "start_time": "2022-09-20T10:17:16.333Z"
   },
   {
    "duration": 162,
    "start_time": "2022-09-20T10:17:18.387Z"
   },
   {
    "duration": 130,
    "start_time": "2022-09-20T10:18:16.609Z"
   },
   {
    "duration": 30,
    "start_time": "2022-09-20T10:25:38.961Z"
   },
   {
    "duration": 451,
    "start_time": "2022-09-20T10:25:46.039Z"
   },
   {
    "duration": 105,
    "start_time": "2022-09-20T10:25:46.492Z"
   },
   {
    "duration": 60,
    "start_time": "2022-09-20T10:25:46.599Z"
   },
   {
    "duration": 267,
    "start_time": "2022-09-20T11:01:36.760Z"
   },
   {
    "duration": 499,
    "start_time": "2022-09-20T11:02:15.232Z"
   },
   {
    "duration": 122,
    "start_time": "2022-09-20T11:02:15.733Z"
   },
   {
    "duration": 336,
    "start_time": "2022-09-20T11:02:15.856Z"
   },
   {
    "duration": 300,
    "start_time": "2022-09-20T11:02:25.086Z"
   },
   {
    "duration": 320,
    "start_time": "2022-09-20T11:02:38.077Z"
   },
   {
    "duration": 8,
    "start_time": "2022-09-20T11:04:03.944Z"
   },
   {
    "duration": 7,
    "start_time": "2022-09-20T11:04:07.280Z"
   },
   {
    "duration": 32,
    "start_time": "2022-09-20T11:04:19.151Z"
   },
   {
    "duration": 346,
    "start_time": "2022-09-21T07:14:06.863Z"
   },
   {
    "duration": 126,
    "start_time": "2022-09-21T07:14:07.211Z"
   },
   {
    "duration": 13,
    "start_time": "2022-09-21T07:14:07.339Z"
   },
   {
    "duration": 396,
    "start_time": "2022-09-21T07:16:29.679Z"
   },
   {
    "duration": 72,
    "start_time": "2022-09-21T07:16:30.077Z"
   },
   {
    "duration": 14,
    "start_time": "2022-09-21T07:16:30.150Z"
   },
   {
    "duration": 14,
    "start_time": "2022-09-21T07:18:08.721Z"
   },
   {
    "duration": 392,
    "start_time": "2022-09-21T07:18:38.281Z"
   },
   {
    "duration": 71,
    "start_time": "2022-09-21T07:18:38.674Z"
   },
   {
    "duration": 13,
    "start_time": "2022-09-21T07:18:38.747Z"
   },
   {
    "duration": 8,
    "start_time": "2022-09-21T07:37:56.513Z"
   },
   {
    "duration": 7,
    "start_time": "2022-09-21T07:37:59.014Z"
   },
   {
    "duration": 7,
    "start_time": "2022-09-21T07:39:05.436Z"
   },
   {
    "duration": 6,
    "start_time": "2022-09-21T07:39:52.748Z"
   },
   {
    "duration": 64,
    "start_time": "2022-09-21T07:46:08.939Z"
   },
   {
    "duration": 8,
    "start_time": "2022-09-21T07:46:39.906Z"
   },
   {
    "duration": 18,
    "start_time": "2022-09-21T07:46:49.419Z"
   },
   {
    "duration": 6,
    "start_time": "2022-09-21T07:47:30.144Z"
   },
   {
    "duration": 12,
    "start_time": "2022-09-21T07:49:29.375Z"
   },
   {
    "duration": 7,
    "start_time": "2022-09-21T07:49:37.384Z"
   },
   {
    "duration": 7,
    "start_time": "2022-09-21T07:50:29.970Z"
   },
   {
    "duration": 9,
    "start_time": "2022-09-21T08:05:07.098Z"
   },
   {
    "duration": 15,
    "start_time": "2022-09-21T08:05:17.868Z"
   },
   {
    "duration": 13,
    "start_time": "2022-09-21T08:05:37.771Z"
   },
   {
    "duration": 13,
    "start_time": "2022-09-21T08:05:46.899Z"
   },
   {
    "duration": 9,
    "start_time": "2022-09-21T08:06:59.362Z"
   },
   {
    "duration": 9,
    "start_time": "2022-09-21T08:07:05.537Z"
   },
   {
    "duration": 8,
    "start_time": "2022-09-21T08:07:17.588Z"
   },
   {
    "duration": 29,
    "start_time": "2022-09-21T08:07:24.341Z"
   },
   {
    "duration": 25,
    "start_time": "2022-09-21T08:07:55.635Z"
   },
   {
    "duration": 26,
    "start_time": "2022-09-21T08:08:06.018Z"
   },
   {
    "duration": 3,
    "start_time": "2022-09-21T08:10:49.729Z"
   },
   {
    "duration": 11,
    "start_time": "2022-09-21T08:10:54.569Z"
   },
   {
    "duration": 15,
    "start_time": "2022-09-21T08:11:06.480Z"
   },
   {
    "duration": 10,
    "start_time": "2022-09-21T08:11:21.543Z"
   },
   {
    "duration": 53,
    "start_time": "2022-09-21T08:13:57.886Z"
   },
   {
    "duration": 12,
    "start_time": "2022-09-21T08:14:19.016Z"
   },
   {
    "duration": 26,
    "start_time": "2022-09-21T08:14:27.364Z"
   },
   {
    "duration": 364,
    "start_time": "2022-09-21T08:14:50.722Z"
   },
   {
    "duration": 74,
    "start_time": "2022-09-21T08:14:51.087Z"
   },
   {
    "duration": 14,
    "start_time": "2022-09-21T08:14:51.162Z"
   },
   {
    "duration": 15,
    "start_time": "2022-09-21T08:14:51.178Z"
   },
   {
    "duration": 7,
    "start_time": "2022-09-21T08:14:51.194Z"
   },
   {
    "duration": 30,
    "start_time": "2022-09-21T08:14:51.203Z"
   },
   {
    "duration": 24,
    "start_time": "2022-09-21T08:15:42.305Z"
   },
   {
    "duration": 25,
    "start_time": "2022-09-21T08:18:37.386Z"
   },
   {
    "duration": 406,
    "start_time": "2022-09-21T08:18:53.476Z"
   },
   {
    "duration": 73,
    "start_time": "2022-09-21T08:18:53.884Z"
   },
   {
    "duration": 15,
    "start_time": "2022-09-21T08:18:53.958Z"
   },
   {
    "duration": 8,
    "start_time": "2022-09-21T08:18:53.975Z"
   },
   {
    "duration": 18,
    "start_time": "2022-09-21T08:18:53.985Z"
   },
   {
    "duration": 43,
    "start_time": "2022-09-21T08:18:54.005Z"
   },
   {
    "duration": 10,
    "start_time": "2022-09-21T08:24:09.846Z"
   },
   {
    "duration": 345,
    "start_time": "2022-09-21T08:24:15.346Z"
   },
   {
    "duration": 74,
    "start_time": "2022-09-21T08:24:15.693Z"
   },
   {
    "duration": 15,
    "start_time": "2022-09-21T08:24:15.768Z"
   },
   {
    "duration": 15,
    "start_time": "2022-09-21T08:24:15.785Z"
   },
   {
    "duration": 11,
    "start_time": "2022-09-21T08:24:15.801Z"
   },
   {
    "duration": 35,
    "start_time": "2022-09-21T08:24:15.814Z"
   },
   {
    "duration": 71,
    "start_time": "2022-09-21T08:24:39.821Z"
   },
   {
    "duration": 353,
    "start_time": "2022-09-21T08:24:51.231Z"
   },
   {
    "duration": 72,
    "start_time": "2022-09-21T08:24:51.586Z"
   },
   {
    "duration": 14,
    "start_time": "2022-09-21T08:24:51.659Z"
   },
   {
    "duration": 65,
    "start_time": "2022-09-21T08:24:51.675Z"
   },
   {
    "duration": 0,
    "start_time": "2022-09-21T08:24:51.741Z"
   },
   {
    "duration": 0,
    "start_time": "2022-09-21T08:24:51.742Z"
   },
   {
    "duration": 3,
    "start_time": "2022-09-21T08:25:03.217Z"
   },
   {
    "duration": 12,
    "start_time": "2022-09-21T08:25:08.361Z"
   },
   {
    "duration": 369,
    "start_time": "2022-09-21T08:25:13.610Z"
   },
   {
    "duration": 75,
    "start_time": "2022-09-21T08:25:13.981Z"
   },
   {
    "duration": 16,
    "start_time": "2022-09-21T08:25:14.058Z"
   },
   {
    "duration": 13,
    "start_time": "2022-09-21T08:25:14.075Z"
   },
   {
    "duration": 13,
    "start_time": "2022-09-21T08:25:14.090Z"
   },
   {
    "duration": 29,
    "start_time": "2022-09-21T08:25:14.105Z"
   },
   {
    "duration": 575,
    "start_time": "2022-09-21T08:27:12.165Z"
   },
   {
    "duration": 30,
    "start_time": "2022-09-21T08:30:40.343Z"
   },
   {
    "duration": 27,
    "start_time": "2022-09-21T08:30:51.420Z"
   },
   {
    "duration": 27,
    "start_time": "2022-09-21T08:33:34.935Z"
   },
   {
    "duration": 73,
    "start_time": "2022-09-21T08:40:42.960Z"
   },
   {
    "duration": 24,
    "start_time": "2022-09-21T08:44:53.319Z"
   },
   {
    "duration": 22,
    "start_time": "2022-09-21T08:45:08.878Z"
   },
   {
    "duration": 25,
    "start_time": "2022-09-21T08:47:05.271Z"
   },
   {
    "duration": 384,
    "start_time": "2022-09-21T08:47:10.701Z"
   },
   {
    "duration": 73,
    "start_time": "2022-09-21T08:47:11.087Z"
   },
   {
    "duration": 14,
    "start_time": "2022-09-21T08:47:11.165Z"
   },
   {
    "duration": 12,
    "start_time": "2022-09-21T08:47:11.180Z"
   },
   {
    "duration": 12,
    "start_time": "2022-09-21T08:47:11.193Z"
   },
   {
    "duration": 803,
    "start_time": "2022-09-21T08:47:11.207Z"
   },
   {
    "duration": 69,
    "start_time": "2022-09-21T08:52:01.172Z"
   },
   {
    "duration": 11900,
    "start_time": "2022-09-21T08:56:16.642Z"
   },
   {
    "duration": 401,
    "start_time": "2022-09-21T08:56:32.871Z"
   },
   {
    "duration": 74,
    "start_time": "2022-09-21T08:56:33.274Z"
   },
   {
    "duration": 14,
    "start_time": "2022-09-21T08:56:33.349Z"
   },
   {
    "duration": 16,
    "start_time": "2022-09-21T08:56:33.364Z"
   },
   {
    "duration": 18,
    "start_time": "2022-09-21T08:56:33.382Z"
   },
   {
    "duration": 19007,
    "start_time": "2022-09-21T08:56:33.401Z"
   },
   {
    "duration": 12,
    "start_time": "2022-09-21T08:59:27.727Z"
   },
   {
    "duration": 15,
    "start_time": "2022-09-21T09:01:01.632Z"
   },
   {
    "duration": 9,
    "start_time": "2022-09-21T09:01:12.314Z"
   },
   {
    "duration": 15,
    "start_time": "2022-09-21T09:01:27.553Z"
   },
   {
    "duration": 413,
    "start_time": "2022-09-21T09:02:05.979Z"
   },
   {
    "duration": 73,
    "start_time": "2022-09-21T09:02:06.394Z"
   },
   {
    "duration": 13,
    "start_time": "2022-09-21T09:02:06.469Z"
   },
   {
    "duration": 12,
    "start_time": "2022-09-21T09:02:06.484Z"
   },
   {
    "duration": 7,
    "start_time": "2022-09-21T09:02:06.498Z"
   },
   {
    "duration": 14,
    "start_time": "2022-09-21T09:02:06.506Z"
   },
   {
    "duration": 110,
    "start_time": "2022-09-21T09:18:00.919Z"
   },
   {
    "duration": 860,
    "start_time": "2022-09-21T09:20:01.950Z"
   },
   {
    "duration": 302,
    "start_time": "2022-09-21T09:20:36.673Z"
   },
   {
    "duration": 389,
    "start_time": "2022-09-21T09:21:01.623Z"
   },
   {
    "duration": 79,
    "start_time": "2022-09-21T09:21:02.015Z"
   },
   {
    "duration": 15,
    "start_time": "2022-09-21T09:21:02.098Z"
   },
   {
    "duration": 14,
    "start_time": "2022-09-21T09:21:02.115Z"
   },
   {
    "duration": 7,
    "start_time": "2022-09-21T09:21:02.131Z"
   },
   {
    "duration": 875,
    "start_time": "2022-09-21T09:21:02.139Z"
   },
   {
    "duration": 341,
    "start_time": "2022-09-21T11:46:58.054Z"
   },
   {
    "duration": 79,
    "start_time": "2022-09-21T11:46:58.398Z"
   },
   {
    "duration": 18,
    "start_time": "2022-09-21T11:46:58.479Z"
   },
   {
    "duration": 19,
    "start_time": "2022-09-21T11:46:58.500Z"
   },
   {
    "duration": 10,
    "start_time": "2022-09-21T11:46:58.522Z"
   },
   {
    "duration": 899,
    "start_time": "2022-09-21T11:46:58.534Z"
   },
   {
    "duration": 30,
    "start_time": "2022-09-21T11:47:24.073Z"
   },
   {
    "duration": 404,
    "start_time": "2022-09-21T11:47:30.426Z"
   },
   {
    "duration": 74,
    "start_time": "2022-09-21T11:47:30.831Z"
   },
   {
    "duration": 15,
    "start_time": "2022-09-21T11:47:30.907Z"
   },
   {
    "duration": 25,
    "start_time": "2022-09-21T11:47:30.923Z"
   },
   {
    "duration": 7,
    "start_time": "2022-09-21T11:47:30.950Z"
   },
   {
    "duration": 916,
    "start_time": "2022-09-21T11:47:30.958Z"
   },
   {
    "duration": 356,
    "start_time": "2022-09-21T11:48:04.721Z"
   },
   {
    "duration": 72,
    "start_time": "2022-09-21T11:48:05.079Z"
   },
   {
    "duration": 13,
    "start_time": "2022-09-21T11:48:05.153Z"
   },
   {
    "duration": 13,
    "start_time": "2022-09-21T11:48:05.168Z"
   },
   {
    "duration": 6,
    "start_time": "2022-09-21T11:48:05.183Z"
   },
   {
    "duration": 953,
    "start_time": "2022-09-21T11:48:05.190Z"
   },
   {
    "duration": 368,
    "start_time": "2022-09-21T11:50:49.230Z"
   },
   {
    "duration": 77,
    "start_time": "2022-09-21T11:50:49.601Z"
   },
   {
    "duration": 14,
    "start_time": "2022-09-21T11:50:49.680Z"
   },
   {
    "duration": 18,
    "start_time": "2022-09-21T11:50:49.696Z"
   },
   {
    "duration": 7,
    "start_time": "2022-09-21T11:50:49.716Z"
   },
   {
    "duration": 929,
    "start_time": "2022-09-21T11:50:49.724Z"
   },
   {
    "duration": 455,
    "start_time": "2022-09-21T11:50:59.973Z"
   },
   {
    "duration": 78,
    "start_time": "2022-09-21T11:51:00.430Z"
   },
   {
    "duration": 15,
    "start_time": "2022-09-21T11:51:00.512Z"
   },
   {
    "duration": 40,
    "start_time": "2022-09-21T11:51:00.529Z"
   },
   {
    "duration": 12,
    "start_time": "2022-09-21T11:51:00.571Z"
   },
   {
    "duration": 891,
    "start_time": "2022-09-21T11:51:00.585Z"
   },
   {
    "duration": 395,
    "start_time": "2022-09-21T11:52:22.828Z"
   },
   {
    "duration": 76,
    "start_time": "2022-09-21T11:52:23.225Z"
   },
   {
    "duration": 17,
    "start_time": "2022-09-21T11:52:23.305Z"
   },
   {
    "duration": 28,
    "start_time": "2022-09-21T11:52:23.324Z"
   },
   {
    "duration": 10,
    "start_time": "2022-09-21T11:52:23.354Z"
   },
   {
    "duration": 13698,
    "start_time": "2022-09-21T11:52:38.000Z"
   },
   {
    "duration": 361,
    "start_time": "2022-09-21T11:53:09.516Z"
   },
   {
    "duration": 78,
    "start_time": "2022-09-21T11:53:09.879Z"
   },
   {
    "duration": 16,
    "start_time": "2022-09-21T11:53:09.958Z"
   },
   {
    "duration": 28,
    "start_time": "2022-09-21T11:53:09.976Z"
   },
   {
    "duration": 11,
    "start_time": "2022-09-21T11:53:10.007Z"
   },
   {
    "duration": 14120,
    "start_time": "2022-09-21T11:53:10.019Z"
   },
   {
    "duration": 414,
    "start_time": "2022-09-22T06:52:04.945Z"
   },
   {
    "duration": 211,
    "start_time": "2022-09-22T06:52:05.361Z"
   },
   {
    "duration": 16,
    "start_time": "2022-09-22T06:52:05.573Z"
   },
   {
    "duration": 14,
    "start_time": "2022-09-22T06:52:05.591Z"
   },
   {
    "duration": 8,
    "start_time": "2022-09-22T06:52:05.607Z"
   },
   {
    "duration": 16206,
    "start_time": "2022-09-22T06:52:05.617Z"
   },
   {
    "duration": 15996,
    "start_time": "2022-09-22T06:58:34.320Z"
   },
   {
    "duration": 6,
    "start_time": "2022-09-22T07:04:56.353Z"
   },
   {
    "duration": 3,
    "start_time": "2022-09-22T07:11:38.110Z"
   },
   {
    "duration": 5,
    "start_time": "2022-09-22T07:11:41.442Z"
   },
   {
    "duration": 12,
    "start_time": "2022-09-22T07:12:37.227Z"
   },
   {
    "duration": 11,
    "start_time": "2022-09-22T07:13:44.559Z"
   },
   {
    "duration": 15,
    "start_time": "2022-09-22T07:22:23.415Z"
   },
   {
    "duration": 13,
    "start_time": "2022-09-22T07:30:44.388Z"
   },
   {
    "duration": 12,
    "start_time": "2022-09-22T07:31:48.050Z"
   },
   {
    "duration": 20,
    "start_time": "2022-09-22T07:32:52.801Z"
   },
   {
    "duration": 389,
    "start_time": "2022-09-22T07:32:57.023Z"
   },
   {
    "duration": 84,
    "start_time": "2022-09-22T07:32:57.414Z"
   },
   {
    "duration": 17,
    "start_time": "2022-09-22T07:32:57.499Z"
   },
   {
    "duration": 19,
    "start_time": "2022-09-22T07:32:57.518Z"
   },
   {
    "duration": 9,
    "start_time": "2022-09-22T07:32:57.539Z"
   },
   {
    "duration": 1125,
    "start_time": "2022-09-22T07:32:57.550Z"
   },
   {
    "duration": 5,
    "start_time": "2022-09-22T07:32:58.677Z"
   },
   {
    "duration": 15,
    "start_time": "2022-09-22T07:32:58.689Z"
   },
   {
    "duration": 20,
    "start_time": "2022-09-22T07:32:58.706Z"
   },
   {
    "duration": 11,
    "start_time": "2022-09-22T07:35:43.399Z"
   },
   {
    "duration": 16,
    "start_time": "2022-09-22T07:39:14.866Z"
   },
   {
    "duration": 3,
    "start_time": "2022-09-22T07:44:25.069Z"
   },
   {
    "duration": 7,
    "start_time": "2022-09-22T08:12:45.033Z"
   },
   {
    "duration": 3325,
    "start_time": "2022-09-22T08:35:54.829Z"
   },
   {
    "duration": 6,
    "start_time": "2022-09-22T08:36:28.588Z"
   },
   {
    "duration": 4,
    "start_time": "2022-09-22T08:36:36.633Z"
   },
   {
    "duration": 6,
    "start_time": "2022-09-22T08:37:37.785Z"
   },
   {
    "duration": 13,
    "start_time": "2022-09-22T08:42:09.768Z"
   },
   {
    "duration": 6,
    "start_time": "2022-09-22T08:42:16.951Z"
   },
   {
    "duration": 91,
    "start_time": "2022-09-22T08:42:36.151Z"
   },
   {
    "duration": 5,
    "start_time": "2022-09-22T08:42:47.661Z"
   },
   {
    "duration": 4,
    "start_time": "2022-09-22T08:46:49.639Z"
   },
   {
    "duration": 383,
    "start_time": "2022-09-22T08:47:12.243Z"
   },
   {
    "duration": 92,
    "start_time": "2022-09-22T08:47:12.628Z"
   },
   {
    "duration": 17,
    "start_time": "2022-09-22T08:47:12.722Z"
   },
   {
    "duration": 12,
    "start_time": "2022-09-22T08:47:12.741Z"
   },
   {
    "duration": 1115,
    "start_time": "2022-09-22T08:47:12.754Z"
   },
   {
    "duration": 5,
    "start_time": "2022-09-22T08:47:13.871Z"
   },
   {
    "duration": 20,
    "start_time": "2022-09-22T08:47:13.891Z"
   },
   {
    "duration": 5,
    "start_time": "2022-09-22T08:47:13.913Z"
   },
   {
    "duration": 165,
    "start_time": "2022-09-22T08:47:13.920Z"
   },
   {
    "duration": 0,
    "start_time": "2022-09-22T08:47:14.087Z"
   },
   {
    "duration": 0,
    "start_time": "2022-09-22T08:47:14.089Z"
   },
   {
    "duration": 0,
    "start_time": "2022-09-22T08:47:14.089Z"
   },
   {
    "duration": 13,
    "start_time": "2022-09-22T08:47:26.557Z"
   },
   {
    "duration": 425,
    "start_time": "2022-09-22T08:48:09.824Z"
   },
   {
    "duration": 96,
    "start_time": "2022-09-22T08:48:10.251Z"
   },
   {
    "duration": 17,
    "start_time": "2022-09-22T08:48:10.349Z"
   },
   {
    "duration": 13,
    "start_time": "2022-09-22T08:48:10.369Z"
   },
   {
    "duration": 1170,
    "start_time": "2022-09-22T08:48:10.389Z"
   },
   {
    "duration": 5,
    "start_time": "2022-09-22T08:48:11.561Z"
   },
   {
    "duration": 39,
    "start_time": "2022-09-22T08:48:11.568Z"
   },
   {
    "duration": 6,
    "start_time": "2022-09-22T08:48:11.609Z"
   },
   {
    "duration": 10,
    "start_time": "2022-09-22T08:48:11.617Z"
   },
   {
    "duration": 14,
    "start_time": "2022-09-22T08:48:11.629Z"
   },
   {
    "duration": 26,
    "start_time": "2022-09-22T08:48:11.645Z"
   },
   {
    "duration": 6,
    "start_time": "2022-09-22T08:48:11.673Z"
   },
   {
    "duration": 66,
    "start_time": "2022-09-22T08:48:35.515Z"
   },
   {
    "duration": 415,
    "start_time": "2022-09-22T08:49:27.437Z"
   },
   {
    "duration": 96,
    "start_time": "2022-09-22T08:49:27.854Z"
   },
   {
    "duration": 17,
    "start_time": "2022-09-22T08:49:27.952Z"
   },
   {
    "duration": 14,
    "start_time": "2022-09-22T08:49:27.972Z"
   },
   {
    "duration": 1181,
    "start_time": "2022-09-22T08:49:27.988Z"
   },
   {
    "duration": 6,
    "start_time": "2022-09-22T08:49:29.171Z"
   },
   {
    "duration": 48,
    "start_time": "2022-09-22T08:49:29.179Z"
   },
   {
    "duration": 29,
    "start_time": "2022-09-22T08:49:29.229Z"
   },
   {
    "duration": 23,
    "start_time": "2022-09-22T08:49:29.260Z"
   },
   {
    "duration": 26,
    "start_time": "2022-09-22T08:49:29.286Z"
   },
   {
    "duration": 21,
    "start_time": "2022-09-22T08:49:29.314Z"
   },
   {
    "duration": 7,
    "start_time": "2022-09-22T08:49:29.337Z"
   },
   {
    "duration": 8,
    "start_time": "2022-09-22T08:49:42.038Z"
   },
   {
    "duration": 25,
    "start_time": "2022-09-22T08:50:10.805Z"
   },
   {
    "duration": 30,
    "start_time": "2022-09-22T08:50:37.157Z"
   },
   {
    "duration": 435,
    "start_time": "2022-09-22T08:50:47.058Z"
   },
   {
    "duration": 83,
    "start_time": "2022-09-22T08:50:47.495Z"
   },
   {
    "duration": 17,
    "start_time": "2022-09-22T08:50:47.579Z"
   },
   {
    "duration": 13,
    "start_time": "2022-09-22T08:50:47.598Z"
   },
   {
    "duration": 1134,
    "start_time": "2022-09-22T08:50:47.613Z"
   },
   {
    "duration": 5,
    "start_time": "2022-09-22T08:50:48.750Z"
   },
   {
    "duration": 19,
    "start_time": "2022-09-22T08:50:48.756Z"
   },
   {
    "duration": 15,
    "start_time": "2022-09-22T08:50:48.776Z"
   },
   {
    "duration": 153,
    "start_time": "2022-09-22T08:50:48.793Z"
   },
   {
    "duration": 0,
    "start_time": "2022-09-22T08:50:48.948Z"
   },
   {
    "duration": 0,
    "start_time": "2022-09-22T08:50:48.950Z"
   },
   {
    "duration": 0,
    "start_time": "2022-09-22T08:50:48.951Z"
   },
   {
    "duration": 397,
    "start_time": "2022-09-22T08:52:09.924Z"
   },
   {
    "duration": 89,
    "start_time": "2022-09-22T08:52:10.323Z"
   },
   {
    "duration": 17,
    "start_time": "2022-09-22T08:52:10.414Z"
   },
   {
    "duration": 12,
    "start_time": "2022-09-22T08:52:10.433Z"
   },
   {
    "duration": 1091,
    "start_time": "2022-09-22T08:52:10.448Z"
   },
   {
    "duration": 6,
    "start_time": "2022-09-22T08:52:11.541Z"
   },
   {
    "duration": 25,
    "start_time": "2022-09-22T08:52:11.549Z"
   },
   {
    "duration": 16,
    "start_time": "2022-09-22T08:52:11.575Z"
   },
   {
    "duration": 163,
    "start_time": "2022-09-22T08:52:11.593Z"
   },
   {
    "duration": 0,
    "start_time": "2022-09-22T08:52:11.758Z"
   },
   {
    "duration": 0,
    "start_time": "2022-09-22T08:52:11.760Z"
   },
   {
    "duration": 0,
    "start_time": "2022-09-22T08:52:11.761Z"
   },
   {
    "duration": 458,
    "start_time": "2022-09-22T08:52:35.371Z"
   },
   {
    "duration": 87,
    "start_time": "2022-09-22T08:52:35.831Z"
   },
   {
    "duration": 23,
    "start_time": "2022-09-22T08:52:35.920Z"
   },
   {
    "duration": 28,
    "start_time": "2022-09-22T08:52:35.946Z"
   },
   {
    "duration": 1150,
    "start_time": "2022-09-22T08:52:35.976Z"
   },
   {
    "duration": 5,
    "start_time": "2022-09-22T08:52:37.127Z"
   },
   {
    "duration": 37,
    "start_time": "2022-09-22T08:52:37.134Z"
   },
   {
    "duration": 24,
    "start_time": "2022-09-22T08:52:37.173Z"
   },
   {
    "duration": 169,
    "start_time": "2022-09-22T08:52:37.199Z"
   },
   {
    "duration": 0,
    "start_time": "2022-09-22T08:52:37.370Z"
   },
   {
    "duration": 0,
    "start_time": "2022-09-22T08:52:37.372Z"
   },
   {
    "duration": 0,
    "start_time": "2022-09-22T08:52:37.373Z"
   },
   {
    "duration": 9,
    "start_time": "2022-09-22T08:52:51.546Z"
   },
   {
    "duration": 421,
    "start_time": "2022-09-22T08:53:24.903Z"
   },
   {
    "duration": 87,
    "start_time": "2022-09-22T08:53:25.326Z"
   },
   {
    "duration": 17,
    "start_time": "2022-09-22T08:53:25.414Z"
   },
   {
    "duration": 14,
    "start_time": "2022-09-22T08:53:25.432Z"
   },
   {
    "duration": 1035,
    "start_time": "2022-09-22T08:53:25.448Z"
   },
   {
    "duration": 6,
    "start_time": "2022-09-22T08:53:26.485Z"
   },
   {
    "duration": 21,
    "start_time": "2022-09-22T08:53:26.492Z"
   },
   {
    "duration": 14,
    "start_time": "2022-09-22T08:53:26.514Z"
   },
   {
    "duration": 12,
    "start_time": "2022-09-22T08:53:26.530Z"
   },
   {
    "duration": 18,
    "start_time": "2022-09-22T08:53:26.544Z"
   },
   {
    "duration": 32,
    "start_time": "2022-09-22T08:53:26.563Z"
   },
   {
    "duration": 4,
    "start_time": "2022-09-22T08:53:26.597Z"
   },
   {
    "duration": 29,
    "start_time": "2022-09-22T08:54:01.939Z"
   },
   {
    "duration": 22,
    "start_time": "2022-09-22T08:54:08.890Z"
   },
   {
    "duration": 411,
    "start_time": "2022-09-22T09:07:36.736Z"
   },
   {
    "duration": 82,
    "start_time": "2022-09-22T09:09:46.796Z"
   },
   {
    "duration": 10,
    "start_time": "2022-09-22T09:10:37.107Z"
   },
   {
    "duration": 8,
    "start_time": "2022-09-22T09:11:30.579Z"
   },
   {
    "duration": 7,
    "start_time": "2022-09-22T09:12:44.808Z"
   },
   {
    "duration": 1009,
    "start_time": "2022-09-22T09:13:21.812Z"
   },
   {
    "duration": 957,
    "start_time": "2022-09-22T09:13:33.203Z"
   },
   {
    "duration": 6,
    "start_time": "2022-09-22T09:13:42.507Z"
   },
   {
    "duration": 17,
    "start_time": "2022-09-22T09:17:29.126Z"
   },
   {
    "duration": 12,
    "start_time": "2022-09-22T09:17:50.684Z"
   },
   {
    "duration": 16,
    "start_time": "2022-09-22T09:17:59.554Z"
   },
   {
    "duration": 20,
    "start_time": "2022-09-22T09:18:31.945Z"
   },
   {
    "duration": 107,
    "start_time": "2022-09-22T09:19:11.286Z"
   },
   {
    "duration": 15,
    "start_time": "2022-09-22T09:19:19.026Z"
   },
   {
    "duration": 153,
    "start_time": "2022-09-22T09:19:35.519Z"
   },
   {
    "duration": 139,
    "start_time": "2022-09-22T09:19:55.036Z"
   },
   {
    "duration": 165,
    "start_time": "2022-09-22T09:20:09.207Z"
   },
   {
    "duration": 139,
    "start_time": "2022-09-22T09:20:40.920Z"
   },
   {
    "duration": 211,
    "start_time": "2022-09-22T09:21:55.480Z"
   },
   {
    "duration": 163,
    "start_time": "2022-09-22T09:23:40.075Z"
   },
   {
    "duration": 681,
    "start_time": "2022-09-22T09:23:47.630Z"
   },
   {
    "duration": 79,
    "start_time": "2022-09-22T09:23:48.313Z"
   },
   {
    "duration": 16,
    "start_time": "2022-09-22T09:23:48.394Z"
   },
   {
    "duration": 10,
    "start_time": "2022-09-22T09:23:48.412Z"
   },
   {
    "duration": 1097,
    "start_time": "2022-09-22T09:23:48.424Z"
   },
   {
    "duration": 5,
    "start_time": "2022-09-22T09:23:49.522Z"
   },
   {
    "duration": 17,
    "start_time": "2022-09-22T09:23:49.529Z"
   },
   {
    "duration": 5,
    "start_time": "2022-09-22T09:23:49.548Z"
   },
   {
    "duration": 17,
    "start_time": "2022-09-22T09:23:49.554Z"
   },
   {
    "duration": 5,
    "start_time": "2022-09-22T09:23:49.590Z"
   },
   {
    "duration": 24,
    "start_time": "2022-09-22T09:23:49.596Z"
   },
   {
    "duration": 4,
    "start_time": "2022-09-22T09:23:49.622Z"
   },
   {
    "duration": 174,
    "start_time": "2022-09-22T09:23:49.628Z"
   },
   {
    "duration": 154,
    "start_time": "2022-09-22T09:24:04.628Z"
   },
   {
    "duration": 164,
    "start_time": "2022-09-22T09:24:23.464Z"
   },
   {
    "duration": 159,
    "start_time": "2022-09-22T09:24:35.415Z"
   },
   {
    "duration": 237,
    "start_time": "2022-09-22T09:24:41.940Z"
   },
   {
    "duration": 172,
    "start_time": "2022-09-22T09:24:57.756Z"
   },
   {
    "duration": 706,
    "start_time": "2022-09-22T09:26:29.872Z"
   },
   {
    "duration": 82,
    "start_time": "2022-09-22T09:26:30.580Z"
   },
   {
    "duration": 17,
    "start_time": "2022-09-22T09:26:30.664Z"
   },
   {
    "duration": 24,
    "start_time": "2022-09-22T09:26:30.683Z"
   },
   {
    "duration": 1083,
    "start_time": "2022-09-22T09:26:30.709Z"
   },
   {
    "duration": 5,
    "start_time": "2022-09-22T09:26:31.793Z"
   },
   {
    "duration": 16,
    "start_time": "2022-09-22T09:26:31.800Z"
   },
   {
    "duration": 6,
    "start_time": "2022-09-22T09:26:31.818Z"
   },
   {
    "duration": 11,
    "start_time": "2022-09-22T09:26:31.826Z"
   },
   {
    "duration": 8,
    "start_time": "2022-09-22T09:26:31.838Z"
   },
   {
    "duration": 53,
    "start_time": "2022-09-22T09:26:31.848Z"
   },
   {
    "duration": 5,
    "start_time": "2022-09-22T09:26:31.903Z"
   },
   {
    "duration": 627,
    "start_time": "2022-09-22T09:27:33.348Z"
   },
   {
    "duration": 80,
    "start_time": "2022-09-22T09:27:33.977Z"
   },
   {
    "duration": 16,
    "start_time": "2022-09-22T09:27:34.059Z"
   },
   {
    "duration": 11,
    "start_time": "2022-09-22T09:27:34.076Z"
   },
   {
    "duration": 1046,
    "start_time": "2022-09-22T09:27:34.090Z"
   },
   {
    "duration": 6,
    "start_time": "2022-09-22T09:27:35.138Z"
   },
   {
    "duration": 39,
    "start_time": "2022-09-22T09:27:35.145Z"
   },
   {
    "duration": 13,
    "start_time": "2022-09-22T09:27:35.186Z"
   },
   {
    "duration": 26,
    "start_time": "2022-09-22T09:27:35.201Z"
   },
   {
    "duration": 12,
    "start_time": "2022-09-22T09:27:35.229Z"
   },
   {
    "duration": 30,
    "start_time": "2022-09-22T09:27:35.242Z"
   },
   {
    "duration": 5,
    "start_time": "2022-09-22T09:27:35.274Z"
   },
   {
    "duration": 206,
    "start_time": "2022-09-22T09:27:35.281Z"
   },
   {
    "duration": 23025,
    "start_time": "2022-09-22T09:27:45.317Z"
   },
   {
    "duration": 306,
    "start_time": "2022-09-22T09:28:34.928Z"
   },
   {
    "duration": 307,
    "start_time": "2022-09-22T09:28:52.895Z"
   },
   {
    "duration": 305,
    "start_time": "2022-09-22T09:29:13.438Z"
   },
   {
    "duration": 478,
    "start_time": "2022-09-22T09:29:29.335Z"
   },
   {
    "duration": 309,
    "start_time": "2022-09-22T09:29:42.303Z"
   },
   {
    "duration": 334,
    "start_time": "2022-09-22T09:29:59.222Z"
   },
   {
    "duration": 358,
    "start_time": "2022-09-22T09:34:03.110Z"
   },
   {
    "duration": 6,
    "start_time": "2022-09-22T09:34:14.745Z"
   },
   {
    "duration": 25,
    "start_time": "2022-09-22T10:56:52.080Z"
   },
   {
    "duration": 16,
    "start_time": "2022-09-22T10:57:43.544Z"
   },
   {
    "duration": 21,
    "start_time": "2022-09-22T11:30:33.343Z"
   },
   {
    "duration": 18,
    "start_time": "2022-09-22T11:31:13.933Z"
   },
   {
    "duration": 458,
    "start_time": "2022-09-22T11:33:30.214Z"
   },
   {
    "duration": 608,
    "start_time": "2022-09-22T11:35:15.752Z"
   },
   {
    "duration": 737,
    "start_time": "2022-09-22T11:36:01.752Z"
   },
   {
    "duration": 613,
    "start_time": "2022-09-22T11:40:56.214Z"
   },
   {
    "duration": 18,
    "start_time": "2022-09-22T11:41:25.168Z"
   },
   {
    "duration": 24,
    "start_time": "2022-09-22T11:41:42.891Z"
   },
   {
    "duration": 1389,
    "start_time": "2022-09-23T06:57:59.664Z"
   },
   {
    "duration": 134,
    "start_time": "2022-09-23T06:58:01.055Z"
   },
   {
    "duration": 16,
    "start_time": "2022-09-23T06:58:01.191Z"
   },
   {
    "duration": 28,
    "start_time": "2022-09-23T06:58:01.208Z"
   },
   {
    "duration": 1096,
    "start_time": "2022-09-23T06:58:01.238Z"
   },
   {
    "duration": 5,
    "start_time": "2022-09-23T06:58:02.336Z"
   },
   {
    "duration": 32,
    "start_time": "2022-09-23T06:58:02.342Z"
   },
   {
    "duration": 5,
    "start_time": "2022-09-23T06:58:02.376Z"
   },
   {
    "duration": 13,
    "start_time": "2022-09-23T06:58:02.382Z"
   },
   {
    "duration": 8,
    "start_time": "2022-09-23T06:58:02.397Z"
   },
   {
    "duration": 22,
    "start_time": "2022-09-23T06:58:02.409Z"
   },
   {
    "duration": 17,
    "start_time": "2022-09-23T06:58:02.433Z"
   },
   {
    "duration": 404,
    "start_time": "2022-09-23T06:58:02.452Z"
   },
   {
    "duration": 1548,
    "start_time": "2022-09-23T06:58:02.858Z"
   },
   {
    "duration": 1346,
    "start_time": "2022-09-23T07:00:38.135Z"
   },
   {
    "duration": 1762,
    "start_time": "2022-09-23T07:01:50.292Z"
   },
   {
    "duration": 80,
    "start_time": "2022-09-23T07:02:21.567Z"
   },
   {
    "duration": 28,
    "start_time": "2022-09-23T07:03:01.955Z"
   },
   {
    "duration": 86,
    "start_time": "2022-09-23T07:04:07.728Z"
   },
   {
    "duration": 151,
    "start_time": "2022-09-23T07:07:07.915Z"
   },
   {
    "duration": 139,
    "start_time": "2022-09-23T07:07:26.603Z"
   },
   {
    "duration": 123,
    "start_time": "2022-09-23T07:13:19.634Z"
   },
   {
    "duration": 29,
    "start_time": "2022-09-23T07:14:56.182Z"
   },
   {
    "duration": 27,
    "start_time": "2022-09-23T07:15:27.190Z"
   },
   {
    "duration": 4184,
    "start_time": "2022-09-23T07:16:27.433Z"
   },
   {
    "duration": 144,
    "start_time": "2022-09-23T07:16:49.680Z"
   },
   {
    "duration": 34,
    "start_time": "2022-09-23T07:20:33.964Z"
   },
   {
    "duration": 4397,
    "start_time": "2022-09-23T07:20:42.834Z"
   },
   {
    "duration": 4339,
    "start_time": "2022-09-23T07:23:59.147Z"
   },
   {
    "duration": 63,
    "start_time": "2022-09-23T07:25:47.732Z"
   },
   {
    "duration": 604,
    "start_time": "2022-09-23T07:26:09.843Z"
   },
   {
    "duration": 31,
    "start_time": "2022-09-23T07:27:23.913Z"
   },
   {
    "duration": 904,
    "start_time": "2022-09-23T07:27:35.927Z"
   },
   {
    "duration": 191,
    "start_time": "2022-09-23T07:31:09.633Z"
   },
   {
    "duration": 3,
    "start_time": "2022-09-23T07:32:00.267Z"
   },
   {
    "duration": 50,
    "start_time": "2022-09-23T07:32:10.187Z"
   },
   {
    "duration": 27,
    "start_time": "2022-09-23T07:32:23.840Z"
   },
   {
    "duration": 88,
    "start_time": "2022-09-23T07:32:48.356Z"
   },
   {
    "duration": 18,
    "start_time": "2022-09-23T07:33:19.349Z"
   },
   {
    "duration": 17,
    "start_time": "2022-09-23T07:33:37.693Z"
   },
   {
    "duration": 18,
    "start_time": "2022-09-23T07:33:46.014Z"
   },
   {
    "duration": 630,
    "start_time": "2022-09-23T07:34:31.276Z"
   },
   {
    "duration": 664,
    "start_time": "2022-09-23T07:35:09.117Z"
   },
   {
    "duration": 752,
    "start_time": "2022-09-23T07:37:17.021Z"
   },
   {
    "duration": 840,
    "start_time": "2022-09-23T07:37:33.148Z"
   },
   {
    "duration": 598,
    "start_time": "2022-09-23T07:37:47.423Z"
   },
   {
    "duration": 549,
    "start_time": "2022-09-23T07:38:40.922Z"
   },
   {
    "duration": 617,
    "start_time": "2022-09-23T07:43:34.341Z"
   },
   {
    "duration": 692,
    "start_time": "2022-09-23T07:44:05.163Z"
   },
   {
    "duration": 736,
    "start_time": "2022-09-23T07:45:06.824Z"
   },
   {
    "duration": 290,
    "start_time": "2022-09-23T07:58:26.381Z"
   },
   {
    "duration": 626,
    "start_time": "2022-09-23T07:59:18.757Z"
   },
   {
    "duration": 274,
    "start_time": "2022-09-23T07:59:53.475Z"
   },
   {
    "duration": 502,
    "start_time": "2022-09-23T08:00:07.019Z"
   },
   {
    "duration": 542,
    "start_time": "2022-09-23T08:04:07.267Z"
   },
   {
    "duration": 4282,
    "start_time": "2022-09-23T08:09:40.862Z"
   },
   {
    "duration": 659,
    "start_time": "2022-09-23T08:10:17.677Z"
   },
   {
    "duration": 286,
    "start_time": "2022-09-23T08:30:18.088Z"
   },
   {
    "duration": 286,
    "start_time": "2022-09-23T08:30:35.069Z"
   },
   {
    "duration": 533,
    "start_time": "2022-09-23T08:30:54.470Z"
   },
   {
    "duration": 634,
    "start_time": "2022-09-23T08:31:34.232Z"
   },
   {
    "duration": 657,
    "start_time": "2022-09-23T08:33:13.862Z"
   },
   {
    "duration": 577,
    "start_time": "2022-09-23T08:33:23.469Z"
   },
   {
    "duration": 554,
    "start_time": "2022-09-23T08:33:31.582Z"
   },
   {
    "duration": 632,
    "start_time": "2022-09-23T08:33:46.302Z"
   },
   {
    "duration": 15,
    "start_time": "2022-09-23T08:38:24.676Z"
   },
   {
    "duration": 15,
    "start_time": "2022-09-23T08:38:35.075Z"
   },
   {
    "duration": 13,
    "start_time": "2022-09-23T08:38:43.948Z"
   },
   {
    "duration": 13,
    "start_time": "2022-09-23T08:39:21.418Z"
   },
   {
    "duration": 24,
    "start_time": "2022-09-23T08:40:52.529Z"
   },
   {
    "duration": 13,
    "start_time": "2022-09-23T08:41:27.304Z"
   },
   {
    "duration": 65,
    "start_time": "2022-09-23T08:41:43.424Z"
   },
   {
    "duration": 47,
    "start_time": "2022-09-23T08:41:54.122Z"
   },
   {
    "duration": 487,
    "start_time": "2022-09-23T08:42:39.713Z"
   },
   {
    "duration": 14,
    "start_time": "2022-09-23T08:43:11.169Z"
   },
   {
    "duration": 13,
    "start_time": "2022-09-23T08:43:28.008Z"
   },
   {
    "duration": 21,
    "start_time": "2022-09-23T08:44:30.208Z"
   },
   {
    "duration": 267,
    "start_time": "2022-09-23T08:45:19.935Z"
   },
   {
    "duration": 363,
    "start_time": "2022-09-23T08:45:57.043Z"
   },
   {
    "duration": 303,
    "start_time": "2022-09-23T08:46:07.679Z"
   },
   {
    "duration": 320,
    "start_time": "2022-09-23T08:46:31.089Z"
   },
   {
    "duration": 314,
    "start_time": "2022-09-23T08:47:24.815Z"
   },
   {
    "duration": 317,
    "start_time": "2022-09-23T08:47:38.238Z"
   },
   {
    "duration": 549,
    "start_time": "2022-09-23T08:49:27.256Z"
   },
   {
    "duration": 712,
    "start_time": "2022-09-23T08:49:32.334Z"
   },
   {
    "duration": 326,
    "start_time": "2022-09-23T08:53:09.013Z"
   },
   {
    "duration": 327,
    "start_time": "2022-09-23T08:53:35.366Z"
   },
   {
    "duration": 313,
    "start_time": "2022-09-23T08:54:18.381Z"
   },
   {
    "duration": 376,
    "start_time": "2022-09-23T08:54:53.781Z"
   },
   {
    "duration": 372,
    "start_time": "2022-09-23T08:56:08.154Z"
   },
   {
    "duration": 417,
    "start_time": "2022-09-23T08:57:04.068Z"
   },
   {
    "duration": 1154,
    "start_time": "2022-09-23T08:57:19.969Z"
   },
   {
    "duration": 78,
    "start_time": "2022-09-23T08:57:21.125Z"
   },
   {
    "duration": 17,
    "start_time": "2022-09-23T08:57:21.205Z"
   },
   {
    "duration": 33,
    "start_time": "2022-09-23T08:57:21.223Z"
   },
   {
    "duration": 912,
    "start_time": "2022-09-23T08:57:21.258Z"
   },
   {
    "duration": 5,
    "start_time": "2022-09-23T08:57:22.172Z"
   },
   {
    "duration": 37,
    "start_time": "2022-09-23T08:57:22.179Z"
   },
   {
    "duration": 19,
    "start_time": "2022-09-23T08:57:22.218Z"
   },
   {
    "duration": 23,
    "start_time": "2022-09-23T08:57:22.239Z"
   },
   {
    "duration": 24,
    "start_time": "2022-09-23T08:57:22.264Z"
   },
   {
    "duration": 37,
    "start_time": "2022-09-23T08:57:22.290Z"
   },
   {
    "duration": 27,
    "start_time": "2022-09-23T08:57:22.329Z"
   },
   {
    "duration": 405,
    "start_time": "2022-09-23T08:57:22.358Z"
   },
   {
    "duration": 371,
    "start_time": "2022-09-23T08:57:22.766Z"
   },
   {
    "duration": 324,
    "start_time": "2022-09-23T08:57:23.139Z"
   },
   {
    "duration": 53,
    "start_time": "2022-09-23T08:57:50.075Z"
   },
   {
    "duration": 333,
    "start_time": "2022-09-23T08:57:56.225Z"
   },
   {
    "duration": 400,
    "start_time": "2022-09-23T08:58:13.647Z"
   },
   {
    "duration": 518,
    "start_time": "2022-09-23T08:58:33.561Z"
   },
   {
    "duration": 428,
    "start_time": "2022-09-23T08:58:56.746Z"
   },
   {
    "duration": 371,
    "start_time": "2022-09-23T08:59:08.143Z"
   },
   {
    "duration": 368,
    "start_time": "2022-09-23T08:59:35.633Z"
   },
   {
    "duration": 387,
    "start_time": "2022-09-23T08:59:54.562Z"
   },
   {
    "duration": 339,
    "start_time": "2022-09-23T09:00:19.559Z"
   },
   {
    "duration": 200,
    "start_time": "2022-09-23T09:00:59.137Z"
   },
   {
    "duration": 298,
    "start_time": "2022-09-23T09:01:10.679Z"
   },
   {
    "duration": 55,
    "start_time": "2022-09-23T09:01:52.886Z"
   },
   {
    "duration": 455,
    "start_time": "2022-09-23T09:01:58.734Z"
   },
   {
    "duration": 393,
    "start_time": "2022-09-23T09:03:44.351Z"
   },
   {
    "duration": 401,
    "start_time": "2022-09-23T09:04:11.791Z"
   },
   {
    "duration": 405,
    "start_time": "2022-09-23T09:04:43.257Z"
   },
   {
    "duration": 499,
    "start_time": "2022-09-23T09:07:55.712Z"
   },
   {
    "duration": 196,
    "start_time": "2022-09-23T09:08:37.465Z"
   },
   {
    "duration": 300,
    "start_time": "2022-09-23T09:08:57.183Z"
   },
   {
    "duration": 311,
    "start_time": "2022-09-23T09:09:28.303Z"
   },
   {
    "duration": 192,
    "start_time": "2022-09-23T09:09:54.405Z"
   },
   {
    "duration": 738,
    "start_time": "2022-09-23T09:10:12.883Z"
   },
   {
    "duration": 1007,
    "start_time": "2022-09-23T09:10:25.820Z"
   },
   {
    "duration": 1076,
    "start_time": "2022-09-23T09:11:23.408Z"
   },
   {
    "duration": 1143,
    "start_time": "2022-09-23T09:13:41.637Z"
   },
   {
    "duration": 87,
    "start_time": "2022-09-23T09:13:42.782Z"
   },
   {
    "duration": 14,
    "start_time": "2022-09-23T09:13:42.871Z"
   },
   {
    "duration": 21,
    "start_time": "2022-09-23T09:13:42.887Z"
   },
   {
    "duration": 905,
    "start_time": "2022-09-23T09:13:42.909Z"
   },
   {
    "duration": 6,
    "start_time": "2022-09-23T09:13:43.816Z"
   },
   {
    "duration": 17,
    "start_time": "2022-09-23T09:13:43.824Z"
   },
   {
    "duration": 6,
    "start_time": "2022-09-23T09:13:43.842Z"
   },
   {
    "duration": 11,
    "start_time": "2022-09-23T09:13:43.849Z"
   },
   {
    "duration": 4,
    "start_time": "2022-09-23T09:13:43.863Z"
   },
   {
    "duration": 66,
    "start_time": "2022-09-23T09:13:43.869Z"
   },
   {
    "duration": 5,
    "start_time": "2022-09-23T09:13:43.937Z"
   },
   {
    "duration": 360,
    "start_time": "2022-09-23T09:13:43.944Z"
   },
   {
    "duration": 384,
    "start_time": "2022-09-23T09:13:44.305Z"
   },
   {
    "duration": 347,
    "start_time": "2022-09-23T09:13:44.691Z"
   },
   {
    "duration": 1030,
    "start_time": "2022-09-23T09:13:45.040Z"
   },
   {
    "duration": 301,
    "start_time": "2022-09-23T09:14:10.141Z"
   },
   {
    "duration": 329,
    "start_time": "2022-09-23T09:14:41.202Z"
   },
   {
    "duration": 411,
    "start_time": "2022-09-23T09:15:02.708Z"
   },
   {
    "duration": 1041,
    "start_time": "2022-09-23T09:15:55.219Z"
   },
   {
    "duration": 128,
    "start_time": "2022-09-23T09:21:06.833Z"
   },
   {
    "duration": 8,
    "start_time": "2022-09-23T09:21:17.598Z"
   },
   {
    "duration": 8,
    "start_time": "2022-09-23T09:21:34.647Z"
   },
   {
    "duration": 14,
    "start_time": "2022-09-23T09:22:03.313Z"
   },
   {
    "duration": 12,
    "start_time": "2022-09-23T10:12:23.293Z"
   },
   {
    "duration": 26,
    "start_time": "2022-09-23T10:12:42.827Z"
   },
   {
    "duration": 29,
    "start_time": "2022-09-23T10:14:20.607Z"
   },
   {
    "duration": 19,
    "start_time": "2022-09-23T10:14:28.819Z"
   },
   {
    "duration": 1318,
    "start_time": "2022-09-23T10:18:53.872Z"
   },
   {
    "duration": 354,
    "start_time": "2022-09-23T10:19:27.118Z"
   },
   {
    "duration": 771,
    "start_time": "2022-09-23T10:20:04.754Z"
   },
   {
    "duration": 365,
    "start_time": "2022-09-23T10:22:13.233Z"
   },
   {
    "duration": 436,
    "start_time": "2022-09-23T10:26:11.809Z"
   },
   {
    "duration": 1209,
    "start_time": "2022-09-23T10:26:28.493Z"
   },
   {
    "duration": 1304,
    "start_time": "2022-09-23T10:27:00.158Z"
   },
   {
    "duration": 1309,
    "start_time": "2022-09-23T10:28:36.700Z"
   },
   {
    "duration": 945,
    "start_time": "2022-09-23T10:30:46.947Z"
   },
   {
    "duration": 1092,
    "start_time": "2022-09-23T10:31:15.317Z"
   },
   {
    "duration": 97,
    "start_time": "2022-09-23T10:32:06.477Z"
   },
   {
    "duration": 26,
    "start_time": "2022-09-23T10:32:28.124Z"
   },
   {
    "duration": 173,
    "start_time": "2022-09-23T10:32:43.179Z"
   },
   {
    "duration": 312,
    "start_time": "2022-09-23T10:33:24.781Z"
   },
   {
    "duration": 231,
    "start_time": "2022-09-23T10:33:53.772Z"
   },
   {
    "duration": 294,
    "start_time": "2022-09-23T10:34:22.736Z"
   },
   {
    "duration": 962,
    "start_time": "2022-09-23T10:35:56.372Z"
   },
   {
    "duration": 27,
    "start_time": "2022-09-23T10:38:12.555Z"
   },
   {
    "duration": 18,
    "start_time": "2022-09-23T10:38:54.649Z"
   },
   {
    "duration": 15,
    "start_time": "2022-09-23T10:39:46.425Z"
   },
   {
    "duration": 17,
    "start_time": "2022-09-23T10:40:52.267Z"
   },
   {
    "duration": 132,
    "start_time": "2022-09-23T10:41:10.259Z"
   },
   {
    "duration": 135,
    "start_time": "2022-09-23T10:41:30.304Z"
   },
   {
    "duration": 317,
    "start_time": "2022-09-23T10:44:35.216Z"
   },
   {
    "duration": 389,
    "start_time": "2022-09-23T10:45:35.744Z"
   },
   {
    "duration": 957,
    "start_time": "2022-09-23T10:45:46.870Z"
   },
   {
    "duration": 204,
    "start_time": "2022-09-23T10:46:41.166Z"
   },
   {
    "duration": 139,
    "start_time": "2022-09-23T10:50:06.306Z"
   },
   {
    "duration": 138,
    "start_time": "2022-09-23T10:51:38.795Z"
   },
   {
    "duration": 224,
    "start_time": "2022-09-23T10:51:45.263Z"
   },
   {
    "duration": 140,
    "start_time": "2022-09-23T10:51:55.352Z"
   },
   {
    "duration": 149,
    "start_time": "2022-09-23T10:52:23.087Z"
   },
   {
    "duration": 1178,
    "start_time": "2022-09-23T10:52:28.522Z"
   },
   {
    "duration": 81,
    "start_time": "2022-09-23T10:52:29.702Z"
   },
   {
    "duration": 16,
    "start_time": "2022-09-23T10:52:29.784Z"
   },
   {
    "duration": 11,
    "start_time": "2022-09-23T10:52:29.802Z"
   },
   {
    "duration": 922,
    "start_time": "2022-09-23T10:52:29.815Z"
   },
   {
    "duration": 4,
    "start_time": "2022-09-23T10:52:30.739Z"
   },
   {
    "duration": 27,
    "start_time": "2022-09-23T10:52:30.745Z"
   },
   {
    "duration": 12,
    "start_time": "2022-09-23T10:52:30.774Z"
   },
   {
    "duration": 15,
    "start_time": "2022-09-23T10:52:30.788Z"
   },
   {
    "duration": 23,
    "start_time": "2022-09-23T10:52:30.805Z"
   },
   {
    "duration": 59,
    "start_time": "2022-09-23T10:52:30.830Z"
   },
   {
    "duration": 4,
    "start_time": "2022-09-23T10:52:30.891Z"
   },
   {
    "duration": 358,
    "start_time": "2022-09-23T10:52:30.897Z"
   },
   {
    "duration": 414,
    "start_time": "2022-09-23T10:52:31.258Z"
   },
   {
    "duration": 316,
    "start_time": "2022-09-23T10:52:31.674Z"
   },
   {
    "duration": 1107,
    "start_time": "2022-09-23T10:52:31.991Z"
   },
   {
    "duration": 211,
    "start_time": "2022-09-23T10:52:33.100Z"
   },
   {
    "duration": 143,
    "start_time": "2022-09-23T10:52:33.313Z"
   },
   {
    "duration": 140,
    "start_time": "2022-09-23T10:53:27.491Z"
   },
   {
    "duration": 183,
    "start_time": "2022-09-23T10:53:42.519Z"
   },
   {
    "duration": 152,
    "start_time": "2022-09-23T11:25:36.261Z"
   },
   {
    "duration": 152,
    "start_time": "2022-09-23T11:26:06.434Z"
   },
   {
    "duration": 730,
    "start_time": "2022-09-23T11:27:14.003Z"
   },
   {
    "duration": 600,
    "start_time": "2022-09-23T11:27:47.930Z"
   },
   {
    "duration": 1109,
    "start_time": "2022-09-23T11:29:03.146Z"
   },
   {
    "duration": 1453,
    "start_time": "2022-09-23T11:29:46.658Z"
   },
   {
    "duration": 211,
    "start_time": "2022-09-23T11:33:08.647Z"
   },
   {
    "duration": 1203,
    "start_time": "2022-09-23T11:33:46.183Z"
   },
   {
    "duration": 1312,
    "start_time": "2022-09-23T11:34:46.851Z"
   },
   {
    "duration": 1318,
    "start_time": "2022-09-23T11:36:36.021Z"
   },
   {
    "duration": 48,
    "start_time": "2022-09-24T19:21:02.349Z"
   },
   {
    "duration": 1249,
    "start_time": "2022-09-24T19:21:07.452Z"
   },
   {
    "duration": 123,
    "start_time": "2022-09-24T19:21:08.703Z"
   },
   {
    "duration": 14,
    "start_time": "2022-09-24T19:21:08.829Z"
   },
   {
    "duration": 11,
    "start_time": "2022-09-24T19:21:08.845Z"
   },
   {
    "duration": 865,
    "start_time": "2022-09-24T19:21:08.858Z"
   },
   {
    "duration": 5,
    "start_time": "2022-09-24T19:21:09.724Z"
   },
   {
    "duration": 12,
    "start_time": "2022-09-24T19:21:09.730Z"
   },
   {
    "duration": 5,
    "start_time": "2022-09-24T19:21:09.743Z"
   },
   {
    "duration": 6,
    "start_time": "2022-09-24T19:21:09.749Z"
   },
   {
    "duration": 7,
    "start_time": "2022-09-24T19:21:09.757Z"
   },
   {
    "duration": 48,
    "start_time": "2022-09-24T19:21:09.765Z"
   },
   {
    "duration": 4,
    "start_time": "2022-09-24T19:21:09.814Z"
   },
   {
    "duration": 308,
    "start_time": "2022-09-24T19:21:09.820Z"
   },
   {
    "duration": 373,
    "start_time": "2022-09-24T19:21:10.130Z"
   },
   {
    "duration": 299,
    "start_time": "2022-09-24T19:21:10.505Z"
   },
   {
    "duration": 995,
    "start_time": "2022-09-24T19:21:10.808Z"
   },
   {
    "duration": 178,
    "start_time": "2022-09-24T19:21:11.804Z"
   },
   {
    "duration": 1250,
    "start_time": "2022-09-24T19:21:11.983Z"
   },
   {
    "duration": 13,
    "start_time": "2022-09-24T19:21:13.234Z"
   },
   {
    "duration": 105,
    "start_time": "2022-09-24T19:23:08.711Z"
   },
   {
    "duration": 9,
    "start_time": "2022-09-24T19:23:14.614Z"
   },
   {
    "duration": 9,
    "start_time": "2022-09-24T19:23:31.031Z"
   },
   {
    "duration": 10,
    "start_time": "2022-09-24T19:23:42.425Z"
   },
   {
    "duration": 14,
    "start_time": "2022-09-24T19:23:48.946Z"
   },
   {
    "duration": 197,
    "start_time": "2022-09-24T19:26:31.271Z"
   },
   {
    "duration": 204,
    "start_time": "2022-09-24T19:27:03.543Z"
   },
   {
    "duration": 4,
    "start_time": "2022-09-24T19:29:43.412Z"
   },
   {
    "duration": 208,
    "start_time": "2022-09-24T19:29:51.731Z"
   },
   {
    "duration": 299,
    "start_time": "2022-09-24T19:30:38.005Z"
   },
   {
    "duration": 281,
    "start_time": "2022-09-24T19:31:11.711Z"
   },
   {
    "duration": 226,
    "start_time": "2022-09-24T19:31:46.526Z"
   },
   {
    "duration": 244,
    "start_time": "2022-09-24T19:32:23.525Z"
   },
   {
    "duration": 239,
    "start_time": "2022-09-24T19:34:30.355Z"
   },
   {
    "duration": 264,
    "start_time": "2022-09-24T19:35:24.971Z"
   },
   {
    "duration": 34,
    "start_time": "2022-09-24T19:43:04.442Z"
   },
   {
    "duration": 41,
    "start_time": "2022-09-24T19:43:28.900Z"
   },
   {
    "duration": 6,
    "start_time": "2022-09-24T19:43:43.648Z"
   },
   {
    "duration": 6,
    "start_time": "2022-09-24T19:43:54.857Z"
   },
   {
    "duration": 13,
    "start_time": "2022-09-24T19:45:24.168Z"
   },
   {
    "duration": 51,
    "start_time": "2022-09-26T07:00:34.950Z"
   },
   {
    "duration": 1305,
    "start_time": "2022-09-26T07:00:46.858Z"
   },
   {
    "duration": 121,
    "start_time": "2022-09-26T07:00:48.166Z"
   },
   {
    "duration": 15,
    "start_time": "2022-09-26T07:00:48.289Z"
   },
   {
    "duration": 26,
    "start_time": "2022-09-26T07:00:48.306Z"
   },
   {
    "duration": 1017,
    "start_time": "2022-09-26T07:00:48.334Z"
   },
   {
    "duration": 4,
    "start_time": "2022-09-26T07:00:49.353Z"
   },
   {
    "duration": 16,
    "start_time": "2022-09-26T07:00:49.359Z"
   },
   {
    "duration": 5,
    "start_time": "2022-09-26T07:00:49.376Z"
   },
   {
    "duration": 13,
    "start_time": "2022-09-26T07:00:49.383Z"
   },
   {
    "duration": 35,
    "start_time": "2022-09-26T07:00:49.399Z"
   },
   {
    "duration": 31,
    "start_time": "2022-09-26T07:00:49.436Z"
   },
   {
    "duration": 5,
    "start_time": "2022-09-26T07:00:49.469Z"
   },
   {
    "duration": 365,
    "start_time": "2022-09-26T07:00:49.476Z"
   },
   {
    "duration": 444,
    "start_time": "2022-09-26T07:00:49.843Z"
   },
   {
    "duration": 342,
    "start_time": "2022-09-26T07:00:50.289Z"
   },
   {
    "duration": 1121,
    "start_time": "2022-09-26T07:00:50.634Z"
   },
   {
    "duration": 196,
    "start_time": "2022-09-26T07:00:51.757Z"
   },
   {
    "duration": 1423,
    "start_time": "2022-09-26T07:00:51.955Z"
   },
   {
    "duration": 279,
    "start_time": "2022-09-26T07:00:53.380Z"
   },
   {
    "duration": 150,
    "start_time": "2022-09-26T07:00:53.661Z"
   },
   {
    "duration": 159,
    "start_time": "2022-09-26T07:03:18.057Z"
   },
   {
    "duration": 153,
    "start_time": "2022-09-26T07:03:23.555Z"
   },
   {
    "duration": 150,
    "start_time": "2022-09-26T07:03:30.444Z"
   },
   {
    "duration": 159,
    "start_time": "2022-09-26T07:03:41.865Z"
   },
   {
    "duration": 248,
    "start_time": "2022-09-26T07:03:49.873Z"
   },
   {
    "duration": 172,
    "start_time": "2022-09-26T07:03:55.794Z"
   },
   {
    "duration": 146,
    "start_time": "2022-09-26T07:04:53.888Z"
   },
   {
    "duration": 145,
    "start_time": "2022-09-26T07:05:08.346Z"
   },
   {
    "duration": 140,
    "start_time": "2022-09-26T07:05:47.875Z"
   },
   {
    "duration": 139,
    "start_time": "2022-09-26T07:07:53.617Z"
   },
   {
    "duration": 99,
    "start_time": "2022-09-26T07:08:57.084Z"
   },
   {
    "duration": 137,
    "start_time": "2022-09-26T07:09:02.609Z"
   },
   {
    "duration": 149,
    "start_time": "2022-09-26T07:09:40.099Z"
   },
   {
    "duration": 287,
    "start_time": "2022-09-26T07:11:52.215Z"
   },
   {
    "duration": 271,
    "start_time": "2022-09-26T07:12:28.847Z"
   },
   {
    "duration": 5,
    "start_time": "2022-09-26T07:22:41.092Z"
   },
   {
    "duration": 5,
    "start_time": "2022-09-26T07:22:51.369Z"
   },
   {
    "duration": 15,
    "start_time": "2022-09-26T07:23:29.021Z"
   },
   {
    "duration": 8,
    "start_time": "2022-09-26T07:25:01.948Z"
   },
   {
    "duration": 15,
    "start_time": "2022-09-26T07:26:10.546Z"
   },
   {
    "duration": 14,
    "start_time": "2022-09-26T07:26:43.946Z"
   },
   {
    "duration": 171,
    "start_time": "2022-09-26T07:26:52.707Z"
   },
   {
    "duration": 346,
    "start_time": "2022-09-26T07:27:59.464Z"
   },
   {
    "duration": 185,
    "start_time": "2022-09-26T07:28:14.673Z"
   },
   {
    "duration": 192,
    "start_time": "2022-09-26T07:28:37.439Z"
   },
   {
    "duration": 379,
    "start_time": "2022-09-26T07:33:36.841Z"
   },
   {
    "duration": 375,
    "start_time": "2022-09-26T07:34:16.809Z"
   },
   {
    "duration": 589,
    "start_time": "2022-09-26T07:34:46.446Z"
   },
   {
    "duration": 221,
    "start_time": "2022-09-26T07:37:48.302Z"
   },
   {
    "duration": 573,
    "start_time": "2022-09-26T07:37:57.851Z"
   },
   {
    "duration": 562,
    "start_time": "2022-09-26T07:38:38.801Z"
   },
   {
    "duration": 575,
    "start_time": "2022-09-26T07:38:54.980Z"
   },
   {
    "duration": 19,
    "start_time": "2022-09-26T08:35:32.450Z"
   },
   {
    "duration": 6,
    "start_time": "2022-09-26T08:39:04.625Z"
   },
   {
    "duration": 8,
    "start_time": "2022-09-26T08:39:11.540Z"
   },
   {
    "duration": 1266,
    "start_time": "2022-09-26T08:42:55.542Z"
   },
   {
    "duration": 1225,
    "start_time": "2022-09-26T08:43:25.884Z"
   },
   {
    "duration": 74,
    "start_time": "2022-09-26T08:43:27.111Z"
   },
   {
    "duration": 15,
    "start_time": "2022-09-26T08:43:27.187Z"
   },
   {
    "duration": 12,
    "start_time": "2022-09-26T08:43:27.204Z"
   },
   {
    "duration": 954,
    "start_time": "2022-09-26T08:43:27.218Z"
   },
   {
    "duration": 5,
    "start_time": "2022-09-26T08:43:28.174Z"
   },
   {
    "duration": 19,
    "start_time": "2022-09-26T08:43:28.181Z"
   },
   {
    "duration": 6,
    "start_time": "2022-09-26T08:43:28.201Z"
   },
   {
    "duration": 28,
    "start_time": "2022-09-26T08:43:28.208Z"
   },
   {
    "duration": 5,
    "start_time": "2022-09-26T08:43:28.238Z"
   },
   {
    "duration": 25,
    "start_time": "2022-09-26T08:43:28.244Z"
   },
   {
    "duration": 4,
    "start_time": "2022-09-26T08:43:28.271Z"
   },
   {
    "duration": 341,
    "start_time": "2022-09-26T08:43:28.276Z"
   },
   {
    "duration": 409,
    "start_time": "2022-09-26T08:43:28.620Z"
   },
   {
    "duration": 325,
    "start_time": "2022-09-26T08:43:29.030Z"
   },
   {
    "duration": 1080,
    "start_time": "2022-09-26T08:43:29.357Z"
   },
   {
    "duration": 202,
    "start_time": "2022-09-26T08:43:30.439Z"
   },
   {
    "duration": 1373,
    "start_time": "2022-09-26T08:43:30.643Z"
   },
   {
    "duration": 288,
    "start_time": "2022-09-26T08:43:32.018Z"
   },
   {
    "duration": 289,
    "start_time": "2022-09-26T08:43:32.307Z"
   },
   {
    "duration": 564,
    "start_time": "2022-09-26T08:43:32.598Z"
   },
   {
    "duration": 1498,
    "start_time": "2022-09-26T08:43:33.164Z"
   },
   {
    "duration": 4,
    "start_time": "2022-09-26T08:44:19.700Z"
   },
   {
    "duration": 12,
    "start_time": "2022-09-26T08:45:49.505Z"
   },
   {
    "duration": 186,
    "start_time": "2022-09-26T08:46:23.238Z"
   },
   {
    "duration": 119,
    "start_time": "2022-09-26T08:49:46.616Z"
   },
   {
    "duration": 109,
    "start_time": "2022-09-26T08:50:12.528Z"
   },
   {
    "duration": 133,
    "start_time": "2022-09-26T08:51:10.031Z"
   },
   {
    "duration": 216,
    "start_time": "2022-09-26T08:51:21.575Z"
   },
   {
    "duration": 319,
    "start_time": "2022-09-26T08:52:34.063Z"
   },
   {
    "duration": 111,
    "start_time": "2022-09-26T08:52:54.818Z"
   },
   {
    "duration": 119,
    "start_time": "2022-09-26T08:53:13.630Z"
   },
   {
    "duration": 134,
    "start_time": "2022-09-26T08:53:26.490Z"
   },
   {
    "duration": 199,
    "start_time": "2022-09-26T08:55:12.910Z"
   },
   {
    "duration": 219,
    "start_time": "2022-09-26T08:55:36.077Z"
   },
   {
    "duration": 109,
    "start_time": "2022-09-26T08:56:22.060Z"
   },
   {
    "duration": 99,
    "start_time": "2022-09-26T08:56:35.005Z"
   },
   {
    "duration": 171,
    "start_time": "2022-09-26T08:58:11.971Z"
   },
   {
    "duration": 1204,
    "start_time": "2022-09-26T08:58:48.648Z"
   },
   {
    "duration": 76,
    "start_time": "2022-09-26T08:58:49.855Z"
   },
   {
    "duration": 17,
    "start_time": "2022-09-26T08:58:49.933Z"
   },
   {
    "duration": 11,
    "start_time": "2022-09-26T08:58:49.952Z"
   },
   {
    "duration": 1013,
    "start_time": "2022-09-26T08:58:49.965Z"
   },
   {
    "duration": 5,
    "start_time": "2022-09-26T08:58:50.979Z"
   },
   {
    "duration": 14,
    "start_time": "2022-09-26T08:58:50.986Z"
   },
   {
    "duration": 5,
    "start_time": "2022-09-26T08:58:51.002Z"
   },
   {
    "duration": 30,
    "start_time": "2022-09-26T08:58:51.008Z"
   },
   {
    "duration": 11,
    "start_time": "2022-09-26T08:58:51.040Z"
   },
   {
    "duration": 30,
    "start_time": "2022-09-26T08:58:51.053Z"
   },
   {
    "duration": 4,
    "start_time": "2022-09-26T08:58:51.085Z"
   },
   {
    "duration": 351,
    "start_time": "2022-09-26T08:58:51.090Z"
   },
   {
    "duration": 435,
    "start_time": "2022-09-26T08:58:51.443Z"
   },
   {
    "duration": 348,
    "start_time": "2022-09-26T08:58:51.879Z"
   },
   {
    "duration": 1119,
    "start_time": "2022-09-26T08:58:52.233Z"
   },
   {
    "duration": 187,
    "start_time": "2022-09-26T08:58:53.354Z"
   },
   {
    "duration": 1346,
    "start_time": "2022-09-26T08:58:53.543Z"
   },
   {
    "duration": 282,
    "start_time": "2022-09-26T08:58:54.891Z"
   },
   {
    "duration": 307,
    "start_time": "2022-09-26T08:58:55.175Z"
   },
   {
    "duration": 637,
    "start_time": "2022-09-26T08:58:55.484Z"
   },
   {
    "duration": 329,
    "start_time": "2022-09-26T08:58:56.123Z"
   },
   {
    "duration": 182,
    "start_time": "2022-09-26T08:59:10.132Z"
   },
   {
    "duration": 188,
    "start_time": "2022-09-26T09:00:32.131Z"
   },
   {
    "duration": 248,
    "start_time": "2022-09-26T09:00:38.116Z"
   },
   {
    "duration": 178,
    "start_time": "2022-09-26T09:00:45.853Z"
   },
   {
    "duration": 191,
    "start_time": "2022-09-26T09:07:01.418Z"
   },
   {
    "duration": 189,
    "start_time": "2022-09-26T09:07:12.938Z"
   },
   {
    "duration": 85,
    "start_time": "2022-09-26T09:08:14.473Z"
   },
   {
    "duration": 190,
    "start_time": "2022-09-26T09:08:23.699Z"
   },
   {
    "duration": 192,
    "start_time": "2022-09-26T09:08:42.394Z"
   },
   {
    "duration": 160,
    "start_time": "2022-09-26T09:08:56.692Z"
   },
   {
    "duration": 168,
    "start_time": "2022-09-26T09:09:56.017Z"
   },
   {
    "duration": 250,
    "start_time": "2022-09-26T09:12:02.472Z"
   },
   {
    "duration": 168,
    "start_time": "2022-09-26T09:12:20.633Z"
   },
   {
    "duration": 44,
    "start_time": "2022-09-26T09:15:59.369Z"
   },
   {
    "duration": 203,
    "start_time": "2022-09-26T09:16:05.034Z"
   },
   {
    "duration": 161,
    "start_time": "2022-09-26T09:16:31.476Z"
   },
   {
    "duration": 210,
    "start_time": "2022-09-26T09:16:46.158Z"
   },
   {
    "duration": 167,
    "start_time": "2022-09-26T09:18:50.848Z"
   },
   {
    "duration": 224,
    "start_time": "2022-09-26T09:19:45.903Z"
   },
   {
    "duration": 47,
    "start_time": "2022-09-26T09:21:28.468Z"
   },
   {
    "duration": 171,
    "start_time": "2022-09-26T09:21:41.613Z"
   },
   {
    "duration": 186,
    "start_time": "2022-09-26T09:23:56.899Z"
   },
   {
    "duration": 171,
    "start_time": "2022-09-26T09:25:02.676Z"
   },
   {
    "duration": 178,
    "start_time": "2022-09-26T09:25:50.953Z"
   },
   {
    "duration": 200,
    "start_time": "2022-09-26T09:27:57.620Z"
   },
   {
    "duration": 123,
    "start_time": "2022-09-26T09:28:34.010Z"
   },
   {
    "duration": 121,
    "start_time": "2022-09-26T09:29:00.869Z"
   },
   {
    "duration": 122,
    "start_time": "2022-09-26T09:29:26.767Z"
   },
   {
    "duration": 115,
    "start_time": "2022-09-26T09:30:10.346Z"
   },
   {
    "duration": 119,
    "start_time": "2022-09-26T09:30:47.971Z"
   },
   {
    "duration": 117,
    "start_time": "2022-09-26T09:31:34.523Z"
   },
   {
    "duration": 116,
    "start_time": "2022-09-26T09:32:14.820Z"
   },
   {
    "duration": 125,
    "start_time": "2022-09-26T09:32:55.354Z"
   },
   {
    "duration": 134,
    "start_time": "2022-09-26T09:33:58.640Z"
   },
   {
    "duration": 129,
    "start_time": "2022-09-26T09:34:09.186Z"
   },
   {
    "duration": 339,
    "start_time": "2022-09-26T09:35:25.343Z"
   },
   {
    "duration": 266,
    "start_time": "2022-09-26T09:36:25.511Z"
   },
   {
    "duration": 283,
    "start_time": "2022-09-26T09:36:49.672Z"
   },
   {
    "duration": 264,
    "start_time": "2022-09-26T09:37:29.616Z"
   },
   {
    "duration": 261,
    "start_time": "2022-09-26T09:38:43.837Z"
   },
   {
    "duration": 339,
    "start_time": "2022-09-26T09:40:06.148Z"
   },
   {
    "duration": 454,
    "start_time": "2022-09-26T09:41:28.060Z"
   },
   {
    "duration": 399,
    "start_time": "2022-09-26T09:43:04.692Z"
   },
   {
    "duration": 396,
    "start_time": "2022-09-26T09:43:17.271Z"
   },
   {
    "duration": 450,
    "start_time": "2022-09-26T09:43:28.129Z"
   },
   {
    "duration": 274,
    "start_time": "2022-09-26T09:59:03.382Z"
   },
   {
    "duration": 636,
    "start_time": "2022-09-26T09:59:28.849Z"
   },
   {
    "duration": 371,
    "start_time": "2022-09-26T09:59:46.175Z"
   },
   {
    "duration": 312,
    "start_time": "2022-09-26T10:00:45.192Z"
   },
   {
    "duration": 402,
    "start_time": "2022-09-26T10:01:42.006Z"
   },
   {
    "duration": 764,
    "start_time": "2022-09-26T10:02:06.617Z"
   },
   {
    "duration": 581,
    "start_time": "2022-09-26T10:02:34.888Z"
   },
   {
    "duration": 2723,
    "start_time": "2022-09-26T10:04:30.105Z"
   },
   {
    "duration": 2101,
    "start_time": "2022-09-26T10:05:36.226Z"
   },
   {
    "duration": 539,
    "start_time": "2022-09-26T10:06:10.329Z"
   },
   {
    "duration": 559,
    "start_time": "2022-09-26T10:06:44.106Z"
   },
   {
    "duration": 650,
    "start_time": "2022-09-26T10:07:05.100Z"
   },
   {
    "duration": 549,
    "start_time": "2022-09-26T10:07:57.598Z"
   },
   {
    "duration": 556,
    "start_time": "2022-09-26T10:10:42.010Z"
   },
   {
    "duration": 430,
    "start_time": "2022-09-26T10:12:17.053Z"
   },
   {
    "duration": 360,
    "start_time": "2022-09-26T10:12:37.649Z"
   },
   {
    "duration": 342,
    "start_time": "2022-09-26T10:13:01.803Z"
   },
   {
    "duration": 314,
    "start_time": "2022-09-26T10:17:16.006Z"
   },
   {
    "duration": 395,
    "start_time": "2022-09-26T10:18:50.279Z"
   },
   {
    "duration": 527,
    "start_time": "2022-09-26T10:18:58.315Z"
   },
   {
    "duration": 482,
    "start_time": "2022-09-26T10:21:34.637Z"
   },
   {
    "duration": 467,
    "start_time": "2022-09-26T10:23:39.469Z"
   },
   {
    "duration": 137,
    "start_time": "2022-09-26T10:24:20.279Z"
   },
   {
    "duration": 321,
    "start_time": "2022-09-26T10:24:24.526Z"
   },
   {
    "duration": 134,
    "start_time": "2022-09-26T10:30:12.708Z"
   },
   {
    "duration": 334,
    "start_time": "2022-09-26T10:31:04.644Z"
   },
   {
    "duration": 260,
    "start_time": "2022-09-26T10:31:48.461Z"
   },
   {
    "duration": 253,
    "start_time": "2022-09-26T10:35:15.104Z"
   },
   {
    "duration": 263,
    "start_time": "2022-09-26T10:35:28.905Z"
   },
   {
    "duration": 346,
    "start_time": "2022-09-26T10:35:38.478Z"
   },
   {
    "duration": 266,
    "start_time": "2022-09-26T10:38:50.208Z"
   },
   {
    "duration": 19,
    "start_time": "2022-09-26T10:43:10.437Z"
   },
   {
    "duration": 14,
    "start_time": "2022-09-26T10:43:27.053Z"
   },
   {
    "duration": 19,
    "start_time": "2022-09-26T10:44:48.493Z"
   },
   {
    "duration": 15,
    "start_time": "2022-09-26T10:45:23.607Z"
   },
   {
    "duration": 14,
    "start_time": "2022-09-26T10:45:43.396Z"
   },
   {
    "duration": 17,
    "start_time": "2022-09-26T10:48:20.117Z"
   },
   {
    "duration": 12,
    "start_time": "2022-09-26T10:48:38.547Z"
   },
   {
    "duration": 13,
    "start_time": "2022-09-26T10:49:14.324Z"
   },
   {
    "duration": 13,
    "start_time": "2022-09-26T10:50:48.042Z"
   },
   {
    "duration": 12,
    "start_time": "2022-09-26T10:51:55.304Z"
   },
   {
    "duration": 14,
    "start_time": "2022-09-26T10:54:03.801Z"
   },
   {
    "duration": 12,
    "start_time": "2022-09-26T10:54:25.043Z"
   },
   {
    "duration": 13,
    "start_time": "2022-09-26T10:54:32.581Z"
   },
   {
    "duration": 97,
    "start_time": "2022-09-26T10:56:51.713Z"
   },
   {
    "duration": 9,
    "start_time": "2022-09-26T10:56:58.603Z"
   },
   {
    "duration": 10,
    "start_time": "2022-09-26T10:58:11.431Z"
   },
   {
    "duration": 23,
    "start_time": "2022-09-26T10:58:24.882Z"
   },
   {
    "duration": 261,
    "start_time": "2022-09-26T10:58:46.824Z"
   },
   {
    "duration": 227,
    "start_time": "2022-09-26T10:59:53.935Z"
   },
   {
    "duration": 154,
    "start_time": "2022-09-26T11:00:31.141Z"
   },
   {
    "duration": 129,
    "start_time": "2022-09-26T11:00:51.443Z"
   },
   {
    "duration": 341,
    "start_time": "2022-09-26T11:01:13.327Z"
   },
   {
    "duration": 393,
    "start_time": "2022-09-26T11:01:46.279Z"
   },
   {
    "duration": 347,
    "start_time": "2022-09-26T11:02:22.295Z"
   },
   {
    "duration": 575,
    "start_time": "2022-09-26T11:09:18.724Z"
   },
   {
    "duration": 474,
    "start_time": "2022-09-26T11:09:46.351Z"
   },
   {
    "duration": 444,
    "start_time": "2022-09-26T11:11:07.074Z"
   },
   {
    "duration": 582,
    "start_time": "2022-09-26T11:11:22.651Z"
   },
   {
    "duration": 1504,
    "start_time": "2022-09-27T08:19:55.266Z"
   },
   {
    "duration": 166,
    "start_time": "2022-09-27T08:19:56.772Z"
   },
   {
    "duration": 23,
    "start_time": "2022-09-27T08:19:56.941Z"
   },
   {
    "duration": 16,
    "start_time": "2022-09-27T08:19:56.967Z"
   },
   {
    "duration": 1148,
    "start_time": "2022-09-27T08:19:56.985Z"
   },
   {
    "duration": 4,
    "start_time": "2022-09-27T08:19:58.135Z"
   },
   {
    "duration": 14,
    "start_time": "2022-09-27T08:19:58.141Z"
   },
   {
    "duration": 4,
    "start_time": "2022-09-27T08:19:58.157Z"
   },
   {
    "duration": 11,
    "start_time": "2022-09-27T08:19:58.163Z"
   },
   {
    "duration": 7,
    "start_time": "2022-09-27T08:19:58.176Z"
   },
   {
    "duration": 45,
    "start_time": "2022-09-27T08:19:58.184Z"
   },
   {
    "duration": 10,
    "start_time": "2022-09-27T08:19:58.231Z"
   },
   {
    "duration": 334,
    "start_time": "2022-09-27T08:19:58.242Z"
   },
   {
    "duration": 418,
    "start_time": "2022-09-27T08:19:58.578Z"
   },
   {
    "duration": 378,
    "start_time": "2022-09-27T08:19:59.000Z"
   },
   {
    "duration": 1210,
    "start_time": "2022-09-27T08:19:59.380Z"
   },
   {
    "duration": 217,
    "start_time": "2022-09-27T08:20:00.592Z"
   },
   {
    "duration": 1528,
    "start_time": "2022-09-27T08:20:00.811Z"
   },
   {
    "duration": 306,
    "start_time": "2022-09-27T08:20:02.341Z"
   },
   {
    "duration": 317,
    "start_time": "2022-09-27T08:20:02.649Z"
   },
   {
    "duration": 711,
    "start_time": "2022-09-27T08:20:02.968Z"
   },
   {
    "duration": 481,
    "start_time": "2022-09-27T08:20:03.681Z"
   },
   {
    "duration": 458,
    "start_time": "2022-09-27T08:20:04.164Z"
   },
   {
    "duration": 691,
    "start_time": "2022-09-27T08:20:04.625Z"
   },
   {
    "duration": 344,
    "start_time": "2022-09-27T08:22:15.553Z"
   },
   {
    "duration": 439,
    "start_time": "2022-09-27T08:22:30.593Z"
   },
   {
    "duration": 18,
    "start_time": "2022-09-27T08:35:06.595Z"
   },
   {
    "duration": 9,
    "start_time": "2022-09-27T08:35:34.114Z"
   },
   {
    "duration": 3,
    "start_time": "2022-09-27T08:36:57.682Z"
   },
   {
    "duration": 159,
    "start_time": "2022-09-27T08:38:09.417Z"
   },
   {
    "duration": 1094,
    "start_time": "2022-09-27T08:38:35.043Z"
   },
   {
    "duration": 79,
    "start_time": "2022-09-27T08:38:36.139Z"
   },
   {
    "duration": 15,
    "start_time": "2022-09-27T08:38:36.220Z"
   },
   {
    "duration": 23,
    "start_time": "2022-09-27T08:38:36.237Z"
   },
   {
    "duration": 978,
    "start_time": "2022-09-27T08:38:36.262Z"
   },
   {
    "duration": 5,
    "start_time": "2022-09-27T08:38:37.242Z"
   },
   {
    "duration": 75,
    "start_time": "2022-09-27T08:38:37.248Z"
   },
   {
    "duration": 19,
    "start_time": "2022-09-27T08:38:37.325Z"
   },
   {
    "duration": 23,
    "start_time": "2022-09-27T08:38:37.346Z"
   },
   {
    "duration": 37,
    "start_time": "2022-09-27T08:38:37.370Z"
   },
   {
    "duration": 31,
    "start_time": "2022-09-27T08:38:37.416Z"
   },
   {
    "duration": 10,
    "start_time": "2022-09-27T08:38:37.449Z"
   },
   {
    "duration": 355,
    "start_time": "2022-09-27T08:38:37.461Z"
   },
   {
    "duration": 393,
    "start_time": "2022-09-27T08:38:37.819Z"
   },
   {
    "duration": 333,
    "start_time": "2022-09-27T08:38:38.214Z"
   },
   {
    "duration": 1085,
    "start_time": "2022-09-27T08:38:38.549Z"
   },
   {
    "duration": 186,
    "start_time": "2022-09-27T08:38:39.635Z"
   },
   {
    "duration": 1363,
    "start_time": "2022-09-27T08:38:39.823Z"
   },
   {
    "duration": 334,
    "start_time": "2022-09-27T08:38:41.188Z"
   },
   {
    "duration": 336,
    "start_time": "2022-09-27T08:38:41.524Z"
   },
   {
    "duration": 558,
    "start_time": "2022-09-27T08:38:41.862Z"
   },
   {
    "duration": 396,
    "start_time": "2022-09-27T08:38:42.421Z"
   },
   {
    "duration": 306,
    "start_time": "2022-09-27T08:38:42.819Z"
   },
   {
    "duration": 352,
    "start_time": "2022-09-27T08:38:43.127Z"
   },
   {
    "duration": 138,
    "start_time": "2022-09-27T08:38:43.480Z"
   },
   {
    "duration": 35,
    "start_time": "2022-09-27T08:38:59.796Z"
   },
   {
    "duration": 41,
    "start_time": "2022-09-27T08:39:19.912Z"
   },
   {
    "duration": 29,
    "start_time": "2022-09-27T08:39:47.928Z"
   },
   {
    "duration": 26,
    "start_time": "2022-09-27T08:41:33.893Z"
   },
   {
    "duration": 1108,
    "start_time": "2022-09-27T08:41:51.469Z"
   },
   {
    "duration": 82,
    "start_time": "2022-09-27T08:41:52.579Z"
   },
   {
    "duration": 14,
    "start_time": "2022-09-27T08:41:52.662Z"
   },
   {
    "duration": 11,
    "start_time": "2022-09-27T08:41:52.677Z"
   },
   {
    "duration": 937,
    "start_time": "2022-09-27T08:41:52.690Z"
   },
   {
    "duration": 4,
    "start_time": "2022-09-27T08:41:53.628Z"
   },
   {
    "duration": 13,
    "start_time": "2022-09-27T08:41:53.634Z"
   },
   {
    "duration": 5,
    "start_time": "2022-09-27T08:41:53.648Z"
   },
   {
    "duration": 7,
    "start_time": "2022-09-27T08:41:53.654Z"
   },
   {
    "duration": 5,
    "start_time": "2022-09-27T08:41:53.664Z"
   },
   {
    "duration": 50,
    "start_time": "2022-09-27T08:41:53.670Z"
   },
   {
    "duration": 4,
    "start_time": "2022-09-27T08:41:53.722Z"
   },
   {
    "duration": 320,
    "start_time": "2022-09-27T08:41:53.727Z"
   },
   {
    "duration": 437,
    "start_time": "2022-09-27T08:41:54.049Z"
   },
   {
    "duration": 430,
    "start_time": "2022-09-27T08:41:54.488Z"
   },
   {
    "duration": 1095,
    "start_time": "2022-09-27T08:41:54.919Z"
   },
   {
    "duration": 178,
    "start_time": "2022-09-27T08:41:56.016Z"
   },
   {
    "duration": 1346,
    "start_time": "2022-09-27T08:41:56.200Z"
   },
   {
    "duration": 288,
    "start_time": "2022-09-27T08:41:57.547Z"
   },
   {
    "duration": 295,
    "start_time": "2022-09-27T08:41:57.837Z"
   },
   {
    "duration": 656,
    "start_time": "2022-09-27T08:41:58.134Z"
   },
   {
    "duration": 439,
    "start_time": "2022-09-27T08:41:58.792Z"
   },
   {
    "duration": 337,
    "start_time": "2022-09-27T08:41:59.233Z"
   },
   {
    "duration": 387,
    "start_time": "2022-09-27T08:41:59.572Z"
   },
   {
    "duration": 118,
    "start_time": "2022-09-27T08:41:59.961Z"
   },
   {
    "duration": 18,
    "start_time": "2022-09-27T08:42:27.816Z"
   },
   {
    "duration": 12,
    "start_time": "2022-09-27T08:43:25.233Z"
   },
   {
    "duration": 12,
    "start_time": "2022-09-27T08:44:07.052Z"
   },
   {
    "duration": 16,
    "start_time": "2022-09-27T08:45:53.694Z"
   },
   {
    "duration": 12,
    "start_time": "2022-09-27T08:47:18.242Z"
   },
   {
    "duration": 15,
    "start_time": "2022-09-27T08:48:24.998Z"
   },
   {
    "duration": 18,
    "start_time": "2022-09-27T08:48:33.698Z"
   },
   {
    "duration": 14,
    "start_time": "2022-09-27T08:48:52.793Z"
   },
   {
    "duration": 12,
    "start_time": "2022-09-27T08:56:18.431Z"
   },
   {
    "duration": 270,
    "start_time": "2022-09-27T11:19:52.181Z"
   },
   {
    "duration": 15,
    "start_time": "2022-09-27T11:20:29.869Z"
   },
   {
    "duration": 59,
    "start_time": "2022-09-27T11:20:51.061Z"
   },
   {
    "duration": 63,
    "start_time": "2022-09-27T11:21:16.375Z"
   },
   {
    "duration": 21,
    "start_time": "2022-09-27T11:21:28.695Z"
   },
   {
    "duration": 286,
    "start_time": "2022-09-27T11:21:42.484Z"
   },
   {
    "duration": 367,
    "start_time": "2022-09-27T11:23:51.652Z"
   },
   {
    "duration": 18,
    "start_time": "2022-09-27T11:25:19.159Z"
   },
   {
    "duration": 302,
    "start_time": "2022-09-27T11:25:25.363Z"
   },
   {
    "duration": 285,
    "start_time": "2022-09-27T11:25:46.031Z"
   },
   {
    "duration": 780,
    "start_time": "2022-09-27T11:33:29.153Z"
   },
   {
    "duration": 826,
    "start_time": "2022-09-27T11:34:18.762Z"
   },
   {
    "duration": 706,
    "start_time": "2022-09-27T11:34:51.271Z"
   },
   {
    "duration": 732,
    "start_time": "2022-09-27T11:35:29.016Z"
   },
   {
    "duration": 1034,
    "start_time": "2022-09-27T11:51:58.835Z"
   },
   {
    "duration": 69,
    "start_time": "2022-09-27T11:51:59.870Z"
   },
   {
    "duration": 14,
    "start_time": "2022-09-27T11:51:59.941Z"
   },
   {
    "duration": 12,
    "start_time": "2022-09-27T11:51:59.957Z"
   },
   {
    "duration": 860,
    "start_time": "2022-09-27T11:51:59.970Z"
   },
   {
    "duration": 4,
    "start_time": "2022-09-27T11:52:00.831Z"
   },
   {
    "duration": 19,
    "start_time": "2022-09-27T11:52:00.837Z"
   },
   {
    "duration": 9,
    "start_time": "2022-09-27T11:52:00.858Z"
   },
   {
    "duration": 19,
    "start_time": "2022-09-27T11:52:00.868Z"
   },
   {
    "duration": 19,
    "start_time": "2022-09-27T11:52:00.889Z"
   },
   {
    "duration": 26,
    "start_time": "2022-09-27T11:52:00.909Z"
   },
   {
    "duration": 4,
    "start_time": "2022-09-27T11:52:00.937Z"
   },
   {
    "duration": 309,
    "start_time": "2022-09-27T11:52:00.942Z"
   },
   {
    "duration": 384,
    "start_time": "2022-09-27T11:52:01.252Z"
   },
   {
    "duration": 305,
    "start_time": "2022-09-27T11:52:01.637Z"
   },
   {
    "duration": 997,
    "start_time": "2022-09-27T11:52:01.943Z"
   },
   {
    "duration": 181,
    "start_time": "2022-09-27T11:52:02.942Z"
   },
   {
    "duration": 1364,
    "start_time": "2022-09-27T11:52:03.125Z"
   },
   {
    "duration": 287,
    "start_time": "2022-09-27T11:52:04.491Z"
   },
   {
    "duration": 273,
    "start_time": "2022-09-27T11:52:04.780Z"
   },
   {
    "duration": 843,
    "start_time": "2022-09-27T11:52:05.055Z"
   },
   {
    "duration": 323,
    "start_time": "2022-09-27T11:52:05.900Z"
   },
   {
    "duration": 294,
    "start_time": "2022-09-27T11:52:06.224Z"
   },
   {
    "duration": 316,
    "start_time": "2022-09-27T11:52:06.520Z"
   },
   {
    "duration": 16,
    "start_time": "2022-09-27T11:52:06.838Z"
   },
   {
    "duration": 19,
    "start_time": "2022-09-27T11:52:06.856Z"
   },
   {
    "duration": 8,
    "start_time": "2022-09-27T11:55:15.671Z"
   },
   {
    "duration": 299,
    "start_time": "2022-09-27T11:58:47.542Z"
   },
   {
    "duration": 305,
    "start_time": "2022-09-27T11:58:55.789Z"
   },
   {
    "duration": 451,
    "start_time": "2022-09-27T11:59:21.980Z"
   },
   {
    "duration": 205,
    "start_time": "2022-09-27T12:01:25.412Z"
   },
   {
    "duration": 1506,
    "start_time": "2022-09-28T15:02:18.380Z"
   },
   {
    "duration": 135,
    "start_time": "2022-09-28T15:02:19.889Z"
   },
   {
    "duration": 20,
    "start_time": "2022-09-28T15:02:20.026Z"
   },
   {
    "duration": 16,
    "start_time": "2022-09-28T15:02:20.049Z"
   },
   {
    "duration": 22,
    "start_time": "2022-09-28T15:02:20.066Z"
   },
   {
    "duration": 1051,
    "start_time": "2022-09-28T15:02:20.090Z"
   },
   {
    "duration": 12,
    "start_time": "2022-09-28T15:02:21.144Z"
   },
   {
    "duration": 23,
    "start_time": "2022-09-28T15:02:21.158Z"
   },
   {
    "duration": 7,
    "start_time": "2022-09-28T15:02:21.184Z"
   },
   {
    "duration": 11,
    "start_time": "2022-09-28T15:02:21.195Z"
   },
   {
    "duration": 7,
    "start_time": "2022-09-28T15:02:21.208Z"
   },
   {
    "duration": 46,
    "start_time": "2022-09-28T15:02:21.217Z"
   },
   {
    "duration": 5,
    "start_time": "2022-09-28T15:02:21.264Z"
   },
   {
    "duration": 437,
    "start_time": "2022-09-28T15:02:21.271Z"
   },
   {
    "duration": 454,
    "start_time": "2022-09-28T15:02:21.710Z"
   },
   {
    "duration": 361,
    "start_time": "2022-09-28T15:02:22.166Z"
   },
   {
    "duration": 1264,
    "start_time": "2022-09-28T15:02:22.528Z"
   },
   {
    "duration": 203,
    "start_time": "2022-09-28T15:02:23.794Z"
   },
   {
    "duration": 1464,
    "start_time": "2022-09-28T15:02:23.999Z"
   },
   {
    "duration": 308,
    "start_time": "2022-09-28T15:02:25.465Z"
   },
   {
    "duration": 312,
    "start_time": "2022-09-28T15:02:25.774Z"
   },
   {
    "duration": 932,
    "start_time": "2022-09-28T15:02:26.088Z"
   },
   {
    "duration": 375,
    "start_time": "2022-09-28T15:02:27.022Z"
   },
   {
    "duration": 369,
    "start_time": "2022-09-28T15:02:27.399Z"
   },
   {
    "duration": 386,
    "start_time": "2022-09-28T15:02:27.770Z"
   },
   {
    "duration": 15,
    "start_time": "2022-09-28T15:02:28.157Z"
   },
   {
    "duration": 14,
    "start_time": "2022-09-28T15:02:28.174Z"
   },
   {
    "duration": 53,
    "start_time": "2022-09-28T15:53:26.758Z"
   },
   {
    "duration": 51,
    "start_time": "2022-09-28T19:33:22.989Z"
   },
   {
    "duration": 8,
    "start_time": "2022-09-28T19:33:31.087Z"
   },
   {
    "duration": 1346,
    "start_time": "2022-09-28T19:33:37.138Z"
   },
   {
    "duration": 121,
    "start_time": "2022-09-28T19:33:38.487Z"
   },
   {
    "duration": 103,
    "start_time": "2022-09-28T19:33:38.610Z"
   },
   {
    "duration": 0,
    "start_time": "2022-09-28T19:33:38.716Z"
   },
   {
    "duration": 0,
    "start_time": "2022-09-28T19:33:38.717Z"
   },
   {
    "duration": 0,
    "start_time": "2022-09-28T19:33:38.720Z"
   },
   {
    "duration": 0,
    "start_time": "2022-09-28T19:33:38.722Z"
   },
   {
    "duration": 0,
    "start_time": "2022-09-28T19:33:38.723Z"
   },
   {
    "duration": 0,
    "start_time": "2022-09-28T19:33:38.725Z"
   },
   {
    "duration": 0,
    "start_time": "2022-09-28T19:33:38.726Z"
   },
   {
    "duration": 0,
    "start_time": "2022-09-28T19:33:38.728Z"
   },
   {
    "duration": 0,
    "start_time": "2022-09-28T19:33:38.730Z"
   },
   {
    "duration": 0,
    "start_time": "2022-09-28T19:33:38.731Z"
   },
   {
    "duration": 0,
    "start_time": "2022-09-28T19:33:38.733Z"
   },
   {
    "duration": 0,
    "start_time": "2022-09-28T19:33:38.734Z"
   },
   {
    "duration": 0,
    "start_time": "2022-09-28T19:33:38.736Z"
   },
   {
    "duration": 0,
    "start_time": "2022-09-28T19:33:38.737Z"
   },
   {
    "duration": 0,
    "start_time": "2022-09-28T19:33:38.739Z"
   },
   {
    "duration": 0,
    "start_time": "2022-09-28T19:33:38.740Z"
   },
   {
    "duration": 0,
    "start_time": "2022-09-28T19:33:38.741Z"
   },
   {
    "duration": 0,
    "start_time": "2022-09-28T19:33:38.742Z"
   },
   {
    "duration": 0,
    "start_time": "2022-09-28T19:33:38.744Z"
   },
   {
    "duration": 0,
    "start_time": "2022-09-28T19:33:38.746Z"
   },
   {
    "duration": 0,
    "start_time": "2022-09-28T19:33:38.747Z"
   },
   {
    "duration": 0,
    "start_time": "2022-09-28T19:33:38.748Z"
   },
   {
    "duration": 0,
    "start_time": "2022-09-28T19:33:38.750Z"
   },
   {
    "duration": 0,
    "start_time": "2022-09-28T19:33:38.751Z"
   },
   {
    "duration": 16,
    "start_time": "2022-09-28T19:33:50.451Z"
   },
   {
    "duration": 11,
    "start_time": "2022-09-28T19:34:55.851Z"
   },
   {
    "duration": 10,
    "start_time": "2022-09-28T19:35:13.129Z"
   },
   {
    "duration": 16,
    "start_time": "2022-09-28T19:36:20.896Z"
   },
   {
    "duration": 15,
    "start_time": "2022-09-28T19:36:34.676Z"
   },
   {
    "duration": 9,
    "start_time": "2022-09-28T19:37:24.376Z"
   },
   {
    "duration": 17,
    "start_time": "2022-09-28T19:38:21.855Z"
   },
   {
    "duration": 1216,
    "start_time": "2022-09-28T19:38:31.836Z"
   },
   {
    "duration": 83,
    "start_time": "2022-09-28T19:38:33.054Z"
   },
   {
    "duration": 14,
    "start_time": "2022-09-28T19:38:33.139Z"
   },
   {
    "duration": 10,
    "start_time": "2022-09-28T19:38:33.155Z"
   },
   {
    "duration": 10,
    "start_time": "2022-09-28T19:38:33.167Z"
   },
   {
    "duration": 15,
    "start_time": "2022-09-28T19:38:33.179Z"
   },
   {
    "duration": 5,
    "start_time": "2022-09-28T19:38:33.221Z"
   },
   {
    "duration": 16,
    "start_time": "2022-09-28T19:38:33.228Z"
   },
   {
    "duration": 9,
    "start_time": "2022-09-28T19:38:33.246Z"
   },
   {
    "duration": 12,
    "start_time": "2022-09-28T19:38:33.257Z"
   },
   {
    "duration": 13,
    "start_time": "2022-09-28T19:38:33.271Z"
   },
   {
    "duration": 46,
    "start_time": "2022-09-28T19:38:33.286Z"
   },
   {
    "duration": 4,
    "start_time": "2022-09-28T19:38:33.334Z"
   },
   {
    "duration": 377,
    "start_time": "2022-09-28T19:38:33.341Z"
   },
   {
    "duration": 460,
    "start_time": "2022-09-28T19:38:33.721Z"
   },
   {
    "duration": 376,
    "start_time": "2022-09-28T19:38:34.183Z"
   },
   {
    "duration": 1209,
    "start_time": "2022-09-28T19:38:34.561Z"
   },
   {
    "duration": 215,
    "start_time": "2022-09-28T19:38:35.772Z"
   },
   {
    "duration": 1463,
    "start_time": "2022-09-28T19:38:35.988Z"
   },
   {
    "duration": 291,
    "start_time": "2022-09-28T19:38:37.454Z"
   },
   {
    "duration": 336,
    "start_time": "2022-09-28T19:38:37.748Z"
   },
   {
    "duration": 980,
    "start_time": "2022-09-28T19:38:38.086Z"
   },
   {
    "duration": 438,
    "start_time": "2022-09-28T19:38:39.069Z"
   },
   {
    "duration": 361,
    "start_time": "2022-09-28T19:38:39.509Z"
   },
   {
    "duration": 399,
    "start_time": "2022-09-28T19:38:39.872Z"
   },
   {
    "duration": 15,
    "start_time": "2022-09-28T19:38:40.273Z"
   },
   {
    "duration": 31,
    "start_time": "2022-09-28T19:38:40.290Z"
   },
   {
    "duration": 536,
    "start_time": "2022-09-28T19:44:41.250Z"
   },
   {
    "duration": 658,
    "start_time": "2022-09-28T19:45:23.635Z"
   },
   {
    "duration": 552,
    "start_time": "2022-09-28T19:45:41.891Z"
   },
   {
    "duration": 642,
    "start_time": "2022-09-28T19:46:45.819Z"
   },
   {
    "duration": 554,
    "start_time": "2022-09-28T19:47:37.633Z"
   },
   {
    "duration": 606,
    "start_time": "2022-09-28T19:47:56.889Z"
   },
   {
    "duration": 308,
    "start_time": "2022-09-28T19:51:55.967Z"
   },
   {
    "duration": 400,
    "start_time": "2022-09-28T19:52:26.452Z"
   },
   {
    "duration": 615,
    "start_time": "2022-09-28T19:53:17.207Z"
   },
   {
    "duration": 643,
    "start_time": "2022-09-28T19:53:54.774Z"
   },
   {
    "duration": 4,
    "start_time": "2022-09-28T20:12:14.423Z"
   },
   {
    "duration": 4,
    "start_time": "2022-09-28T20:12:17.139Z"
   },
   {
    "duration": 6,
    "start_time": "2022-09-28T20:12:25.704Z"
   },
   {
    "duration": 4,
    "start_time": "2022-09-28T20:12:35.976Z"
   },
   {
    "duration": 1188,
    "start_time": "2022-09-29T06:02:38.579Z"
   },
   {
    "duration": 86,
    "start_time": "2022-09-29T06:02:39.769Z"
   },
   {
    "duration": 16,
    "start_time": "2022-09-29T06:02:39.857Z"
   },
   {
    "duration": 38,
    "start_time": "2022-09-29T06:02:39.875Z"
   },
   {
    "duration": 26,
    "start_time": "2022-09-29T06:02:39.914Z"
   },
   {
    "duration": 48,
    "start_time": "2022-09-29T06:02:39.941Z"
   },
   {
    "duration": 31,
    "start_time": "2022-09-29T06:02:39.991Z"
   },
   {
    "duration": 26,
    "start_time": "2022-09-29T06:02:40.023Z"
   },
   {
    "duration": 5,
    "start_time": "2022-09-29T06:02:40.051Z"
   },
   {
    "duration": 12,
    "start_time": "2022-09-29T06:02:40.059Z"
   },
   {
    "duration": 8,
    "start_time": "2022-09-29T06:02:40.073Z"
   },
   {
    "duration": 43,
    "start_time": "2022-09-29T06:02:40.082Z"
   },
   {
    "duration": 4,
    "start_time": "2022-09-29T06:02:40.127Z"
   },
   {
    "duration": 345,
    "start_time": "2022-09-29T06:02:40.133Z"
   },
   {
    "duration": 440,
    "start_time": "2022-09-29T06:02:40.480Z"
   },
   {
    "duration": 364,
    "start_time": "2022-09-29T06:02:40.922Z"
   },
   {
    "duration": 1218,
    "start_time": "2022-09-29T06:02:41.289Z"
   },
   {
    "duration": 219,
    "start_time": "2022-09-29T06:02:42.508Z"
   },
   {
    "duration": 1461,
    "start_time": "2022-09-29T06:02:42.729Z"
   },
   {
    "duration": 557,
    "start_time": "2022-09-29T06:02:44.192Z"
   },
   {
    "duration": 321,
    "start_time": "2022-09-29T06:02:44.751Z"
   },
   {
    "duration": 6,
    "start_time": "2022-09-29T06:02:45.074Z"
   },
   {
    "duration": 969,
    "start_time": "2022-09-29T06:02:45.082Z"
   },
   {
    "duration": 398,
    "start_time": "2022-09-29T06:02:46.053Z"
   },
   {
    "duration": 370,
    "start_time": "2022-09-29T06:02:46.453Z"
   },
   {
    "duration": 407,
    "start_time": "2022-09-29T06:02:46.825Z"
   },
   {
    "duration": 19,
    "start_time": "2022-09-29T06:02:47.234Z"
   },
   {
    "duration": 39,
    "start_time": "2022-09-29T06:02:47.257Z"
   },
   {
    "duration": 5,
    "start_time": "2022-09-29T06:03:04.883Z"
   },
   {
    "duration": 10,
    "start_time": "2022-09-29T06:03:14.311Z"
   },
   {
    "duration": 11,
    "start_time": "2022-09-29T06:04:01.850Z"
   },
   {
    "duration": 12,
    "start_time": "2022-09-29T06:05:26.065Z"
   },
   {
    "duration": 12,
    "start_time": "2022-09-29T06:11:22.426Z"
   },
   {
    "duration": 110,
    "start_time": "2022-09-29T06:20:16.992Z"
   },
   {
    "duration": 1156,
    "start_time": "2022-09-29T06:20:27.846Z"
   },
   {
    "duration": 82,
    "start_time": "2022-09-29T06:20:29.004Z"
   },
   {
    "duration": 16,
    "start_time": "2022-09-29T06:20:29.089Z"
   },
   {
    "duration": 17,
    "start_time": "2022-09-29T06:20:29.107Z"
   },
   {
    "duration": 12,
    "start_time": "2022-09-29T06:20:29.126Z"
   },
   {
    "duration": 15,
    "start_time": "2022-09-29T06:20:29.140Z"
   },
   {
    "duration": 6,
    "start_time": "2022-09-29T06:20:29.157Z"
   },
   {
    "duration": 14,
    "start_time": "2022-09-29T06:20:29.165Z"
   },
   {
    "duration": 5,
    "start_time": "2022-09-29T06:20:29.181Z"
   },
   {
    "duration": 9,
    "start_time": "2022-09-29T06:20:29.222Z"
   },
   {
    "duration": 7,
    "start_time": "2022-09-29T06:20:29.233Z"
   },
   {
    "duration": 24,
    "start_time": "2022-09-29T06:20:29.242Z"
   },
   {
    "duration": 5,
    "start_time": "2022-09-29T06:20:29.269Z"
   },
   {
    "duration": 365,
    "start_time": "2022-09-29T06:20:29.276Z"
   },
   {
    "duration": 448,
    "start_time": "2022-09-29T06:20:29.643Z"
   },
   {
    "duration": 345,
    "start_time": "2022-09-29T06:20:30.092Z"
   },
   {
    "duration": 1166,
    "start_time": "2022-09-29T06:20:30.438Z"
   },
   {
    "duration": 209,
    "start_time": "2022-09-29T06:20:31.606Z"
   },
   {
    "duration": 1424,
    "start_time": "2022-09-29T06:20:31.817Z"
   },
   {
    "duration": 571,
    "start_time": "2022-09-29T06:20:33.243Z"
   },
   {
    "duration": 334,
    "start_time": "2022-09-29T06:20:33.820Z"
   },
   {
    "duration": 46,
    "start_time": "2022-09-29T06:20:34.156Z"
   },
   {
    "duration": 0,
    "start_time": "2022-09-29T06:20:34.204Z"
   },
   {
    "duration": 0,
    "start_time": "2022-09-29T06:20:34.205Z"
   },
   {
    "duration": 0,
    "start_time": "2022-09-29T06:20:34.207Z"
   },
   {
    "duration": 0,
    "start_time": "2022-09-29T06:20:34.208Z"
   },
   {
    "duration": 0,
    "start_time": "2022-09-29T06:20:34.209Z"
   },
   {
    "duration": 0,
    "start_time": "2022-09-29T06:20:34.210Z"
   },
   {
    "duration": 49,
    "start_time": "2022-09-29T06:22:06.457Z"
   },
   {
    "duration": 53,
    "start_time": "2022-09-29T06:22:18.583Z"
   },
   {
    "duration": 126,
    "start_time": "2022-09-29T06:22:31.216Z"
   },
   {
    "duration": 32,
    "start_time": "2022-09-29T06:22:46.241Z"
   },
   {
    "duration": 84,
    "start_time": "2022-09-29T06:22:53.849Z"
   },
   {
    "duration": 55,
    "start_time": "2022-09-29T06:23:19.070Z"
   },
   {
    "duration": 58,
    "start_time": "2022-09-29T06:23:46.015Z"
   },
   {
    "duration": 48,
    "start_time": "2022-09-29T06:29:28.640Z"
   },
   {
    "duration": 10,
    "start_time": "2022-09-29T06:29:44.870Z"
   },
   {
    "duration": 14,
    "start_time": "2022-09-29T06:29:57.878Z"
   },
   {
    "duration": 69,
    "start_time": "2022-09-29T06:30:10.995Z"
   },
   {
    "duration": 6,
    "start_time": "2022-09-29T06:30:22.935Z"
   },
   {
    "duration": 79,
    "start_time": "2022-09-29T06:30:36.980Z"
   },
   {
    "duration": 80,
    "start_time": "2022-09-29T06:32:47.139Z"
   },
   {
    "duration": 18,
    "start_time": "2022-09-29T06:33:01.717Z"
   },
   {
    "duration": 20,
    "start_time": "2022-09-29T06:38:00.059Z"
   },
   {
    "duration": 15,
    "start_time": "2022-09-29T06:39:41.779Z"
   },
   {
    "duration": 446,
    "start_time": "2022-09-29T06:40:32.170Z"
   },
   {
    "duration": 15,
    "start_time": "2022-09-29T06:41:23.315Z"
   },
   {
    "duration": 16,
    "start_time": "2022-09-29T06:43:47.620Z"
   },
   {
    "duration": 4,
    "start_time": "2022-09-29T06:44:38.892Z"
   },
   {
    "duration": 19,
    "start_time": "2022-09-29T06:44:45.309Z"
   },
   {
    "duration": 27,
    "start_time": "2022-09-29T06:47:22.065Z"
   },
   {
    "duration": 21,
    "start_time": "2022-09-29T06:47:59.289Z"
   },
   {
    "duration": 19,
    "start_time": "2022-09-29T06:48:13.512Z"
   },
   {
    "duration": 23,
    "start_time": "2022-09-29T06:48:55.748Z"
   },
   {
    "duration": 21,
    "start_time": "2022-09-29T06:49:07.518Z"
   },
   {
    "duration": 28,
    "start_time": "2022-09-29T06:51:26.808Z"
   },
   {
    "duration": 35,
    "start_time": "2022-09-29T06:52:14.864Z"
   },
   {
    "duration": 24,
    "start_time": "2022-09-29T06:52:47.127Z"
   },
   {
    "duration": 850,
    "start_time": "2022-09-29T06:54:53.814Z"
   },
   {
    "duration": 28,
    "start_time": "2022-09-29T06:55:09.936Z"
   },
   {
    "duration": 23,
    "start_time": "2022-09-29T06:57:12.934Z"
   },
   {
    "duration": 56,
    "start_time": "2022-09-29T06:59:52.556Z"
   },
   {
    "duration": 42,
    "start_time": "2022-09-29T06:59:56.917Z"
   },
   {
    "duration": 26,
    "start_time": "2022-09-29T07:00:35.237Z"
   },
   {
    "duration": 44,
    "start_time": "2022-09-29T07:04:20.274Z"
   },
   {
    "duration": 31,
    "start_time": "2022-09-29T07:04:30.387Z"
   },
   {
    "duration": 38,
    "start_time": "2022-09-29T07:04:48.916Z"
   },
   {
    "duration": 30,
    "start_time": "2022-09-29T07:06:33.972Z"
   },
   {
    "duration": 38,
    "start_time": "2022-09-29T07:07:19.338Z"
   },
   {
    "duration": 31,
    "start_time": "2022-09-29T07:08:00.849Z"
   },
   {
    "duration": 27,
    "start_time": "2022-09-29T07:08:07.417Z"
   },
   {
    "duration": 27,
    "start_time": "2022-09-29T07:08:34.498Z"
   },
   {
    "duration": 68,
    "start_time": "2022-09-29T07:17:24.232Z"
   },
   {
    "duration": 27,
    "start_time": "2022-09-29T07:17:53.678Z"
   },
   {
    "duration": 26,
    "start_time": "2022-09-29T07:19:16.535Z"
   },
   {
    "duration": 27,
    "start_time": "2022-09-29T07:19:24.570Z"
   },
   {
    "duration": 30,
    "start_time": "2022-09-29T07:19:30.671Z"
   },
   {
    "duration": 31,
    "start_time": "2022-09-29T07:20:10.493Z"
   },
   {
    "duration": 33,
    "start_time": "2022-09-29T07:20:41.989Z"
   },
   {
    "duration": 32,
    "start_time": "2022-09-29T07:21:04.652Z"
   },
   {
    "duration": 342,
    "start_time": "2022-09-29T07:21:17.516Z"
   },
   {
    "duration": 32,
    "start_time": "2022-09-29T07:21:26.487Z"
   },
   {
    "duration": 1012,
    "start_time": "2022-09-29T07:23:12.644Z"
   },
   {
    "duration": 1021,
    "start_time": "2022-09-29T07:24:05.131Z"
   },
   {
    "duration": 940,
    "start_time": "2022-09-29T07:24:50.737Z"
   },
   {
    "duration": 1078,
    "start_time": "2022-09-29T07:25:03.099Z"
   },
   {
    "duration": 997,
    "start_time": "2022-09-29T07:25:19.096Z"
   },
   {
    "duration": 1029,
    "start_time": "2022-09-29T07:29:27.616Z"
   },
   {
    "duration": 15,
    "start_time": "2022-09-29T07:31:06.186Z"
   },
   {
    "duration": 15,
    "start_time": "2022-09-29T07:32:42.690Z"
   },
   {
    "duration": 366,
    "start_time": "2022-09-29T07:43:21.365Z"
   },
   {
    "duration": 555,
    "start_time": "2022-09-29T07:44:05.652Z"
   },
   {
    "duration": 455,
    "start_time": "2022-09-29T07:44:25.622Z"
   },
   {
    "duration": 325,
    "start_time": "2022-09-29T07:45:03.204Z"
   },
   {
    "duration": 310,
    "start_time": "2022-09-29T07:45:13.228Z"
   },
   {
    "duration": 307,
    "start_time": "2022-09-29T07:45:43.405Z"
   },
   {
    "duration": 302,
    "start_time": "2022-09-29T07:45:52.828Z"
   },
   {
    "duration": 584,
    "start_time": "2022-09-29T07:48:09.995Z"
   },
   {
    "duration": 577,
    "start_time": "2022-09-29T07:48:20.179Z"
   },
   {
    "duration": 381,
    "start_time": "2022-09-29T07:54:20.914Z"
   },
   {
    "duration": 298,
    "start_time": "2022-09-29T07:55:00.401Z"
   },
   {
    "duration": 316,
    "start_time": "2022-09-29T07:55:16.199Z"
   },
   {
    "duration": 234,
    "start_time": "2022-09-29T07:55:35.640Z"
   },
   {
    "duration": 293,
    "start_time": "2022-09-29T07:58:58.009Z"
   },
   {
    "duration": 17,
    "start_time": "2022-09-29T07:59:04.999Z"
   },
   {
    "duration": 191,
    "start_time": "2022-09-29T07:59:20.361Z"
   },
   {
    "duration": 184,
    "start_time": "2022-09-29T07:59:54.216Z"
   },
   {
    "duration": 64,
    "start_time": "2022-09-29T08:00:21.750Z"
   },
   {
    "duration": 130,
    "start_time": "2022-09-29T08:00:28.335Z"
   },
   {
    "duration": 134,
    "start_time": "2022-09-29T08:00:35.239Z"
   },
   {
    "duration": 401,
    "start_time": "2022-09-29T08:04:55.422Z"
   },
   {
    "duration": 236,
    "start_time": "2022-09-29T08:06:11.285Z"
   },
   {
    "duration": 124,
    "start_time": "2022-09-29T08:06:42.357Z"
   },
   {
    "duration": 301,
    "start_time": "2022-09-29T08:07:17.031Z"
   },
   {
    "duration": 544,
    "start_time": "2022-09-29T08:07:31.937Z"
   },
   {
    "duration": 558,
    "start_time": "2022-09-29T08:08:34.557Z"
   },
   {
    "duration": 656,
    "start_time": "2022-09-29T08:08:52.814Z"
   },
   {
    "duration": 389,
    "start_time": "2022-09-29T08:09:28.803Z"
   },
   {
    "duration": 289,
    "start_time": "2022-09-29T08:09:46.068Z"
   },
   {
    "duration": 629,
    "start_time": "2022-09-29T08:10:06.155Z"
   },
   {
    "duration": 348,
    "start_time": "2022-09-29T08:10:36.956Z"
   },
   {
    "duration": 363,
    "start_time": "2022-09-29T08:11:25.539Z"
   },
   {
    "duration": 356,
    "start_time": "2022-09-29T08:11:49.939Z"
   },
   {
    "duration": 16,
    "start_time": "2022-09-29T08:17:04.012Z"
   },
   {
    "duration": 1047,
    "start_time": "2022-09-29T08:17:41.961Z"
   },
   {
    "duration": 944,
    "start_time": "2022-09-29T08:18:10.421Z"
   },
   {
    "duration": 970,
    "start_time": "2022-09-29T08:18:51.921Z"
   },
   {
    "duration": 1098,
    "start_time": "2022-09-29T08:21:16.726Z"
   },
   {
    "duration": 362,
    "start_time": "2022-09-29T08:21:55.442Z"
   },
   {
    "duration": 14,
    "start_time": "2022-09-29T08:24:26.569Z"
   },
   {
    "duration": 1113,
    "start_time": "2022-09-29T08:26:57.871Z"
   },
   {
    "duration": 950,
    "start_time": "2022-09-29T08:27:46.164Z"
   },
   {
    "duration": 352,
    "start_time": "2022-09-29T08:30:41.228Z"
   },
   {
    "duration": 1329,
    "start_time": "2022-09-29T19:48:39.075Z"
   },
   {
    "duration": 121,
    "start_time": "2022-09-29T19:48:40.406Z"
   },
   {
    "duration": 15,
    "start_time": "2022-09-29T19:48:40.528Z"
   },
   {
    "duration": 12,
    "start_time": "2022-09-29T19:48:40.545Z"
   },
   {
    "duration": 14,
    "start_time": "2022-09-29T19:48:40.559Z"
   },
   {
    "duration": 14,
    "start_time": "2022-09-29T19:48:40.575Z"
   },
   {
    "duration": 5,
    "start_time": "2022-09-29T19:48:40.591Z"
   },
   {
    "duration": 20,
    "start_time": "2022-09-29T19:48:40.597Z"
   },
   {
    "duration": 5,
    "start_time": "2022-09-29T19:48:40.618Z"
   },
   {
    "duration": 30,
    "start_time": "2022-09-29T19:48:40.626Z"
   },
   {
    "duration": 11,
    "start_time": "2022-09-29T19:48:40.658Z"
   },
   {
    "duration": 39,
    "start_time": "2022-09-29T19:48:40.670Z"
   },
   {
    "duration": 4,
    "start_time": "2022-09-29T19:48:40.711Z"
   },
   {
    "duration": 371,
    "start_time": "2022-09-29T19:48:40.717Z"
   },
   {
    "duration": 478,
    "start_time": "2022-09-29T19:48:41.089Z"
   },
   {
    "duration": 402,
    "start_time": "2022-09-29T19:48:41.569Z"
   },
   {
    "duration": 1174,
    "start_time": "2022-09-29T19:48:41.973Z"
   },
   {
    "duration": 208,
    "start_time": "2022-09-29T19:48:43.149Z"
   },
   {
    "duration": 1433,
    "start_time": "2022-09-29T19:48:43.359Z"
   },
   {
    "duration": 566,
    "start_time": "2022-09-29T19:48:44.794Z"
   },
   {
    "duration": 342,
    "start_time": "2022-09-29T19:48:45.362Z"
   },
   {
    "duration": 75,
    "start_time": "2022-09-29T19:48:45.706Z"
   },
   {
    "duration": 1016,
    "start_time": "2022-09-29T19:48:45.783Z"
   },
   {
    "duration": 361,
    "start_time": "2022-09-29T19:48:46.800Z"
   },
   {
    "duration": 375,
    "start_time": "2022-09-29T19:48:47.163Z"
   },
   {
    "duration": 387,
    "start_time": "2022-09-29T19:48:47.540Z"
   },
   {
    "duration": 12,
    "start_time": "2022-09-29T19:48:47.929Z"
   },
   {
    "duration": 18,
    "start_time": "2022-09-29T19:48:47.944Z"
   },
   {
    "duration": 3,
    "start_time": "2022-09-29T19:49:05.023Z"
   },
   {
    "duration": 45,
    "start_time": "2022-09-29T19:53:59.565Z"
   }
  ],
  "kernelspec": {
   "display_name": "Python 3 (ipykernel)",
   "language": "python",
   "name": "python3"
  },
  "language_info": {
   "codemirror_mode": {
    "name": "ipython",
    "version": 3
   },
   "file_extension": ".py",
   "mimetype": "text/x-python",
   "name": "python",
   "nbconvert_exporter": "python",
   "pygments_lexer": "ipython3",
   "version": "3.9.13"
  },
  "toc": {
   "base_numbering": 1,
   "nav_menu": {},
   "number_sections": false,
   "sideBar": true,
   "skip_h1_title": false,
   "title_cell": "Содержание",
   "title_sidebar": "Оглавление",
   "toc_cell": false,
   "toc_position": {
    "height": "calc(100% - 180px)",
    "left": "10px",
    "top": "150px",
    "width": "286.075px"
   },
   "toc_section_display": true,
   "toc_window_display": true
  }
 },
 "nbformat": 4,
 "nbformat_minor": 2
}
